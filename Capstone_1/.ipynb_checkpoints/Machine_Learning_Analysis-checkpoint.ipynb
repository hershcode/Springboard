{
 "cells": [
  {
   "cell_type": "code",
   "execution_count": 1,
   "metadata": {},
   "outputs": [],
   "source": [
    "from datetime import datetime as dt \n",
    "import pandas as pd \n",
    "import numpy as np \n",
    "import matplotlib.pyplot as plt"
   ]
  },
  {
   "cell_type": "code",
   "execution_count": 2,
   "metadata": {},
   "outputs": [],
   "source": [
    "df = pd.read_csv(filepath_or_buffer='Building_Permits_Cleaned.csv', index_col=0)"
   ]
  },
  {
   "cell_type": "code",
   "execution_count": 3,
   "metadata": {},
   "outputs": [],
   "source": [
    "lst = list(df[df.time_frame == 'unknown'].index)\n",
    "df.drop(index=lst, inplace=True)"
   ]
  },
  {
   "cell_type": "code",
   "execution_count": 4,
   "metadata": {},
   "outputs": [],
   "source": [
    "def to_category(columns, dataframe):\n",
    "    \"\"\"Convert a list of columns, from a dataframe, to a category datatype\"\"\"\n",
    "    for column in columns: \n",
    "        dataframe[column] = dataframe[column].astype('category')\n",
    "\n",
    "def to_integer(columns, dataframe):\n",
    "    \"\"\"Convert columns from a dataframe to an int64 datatype\"\"\"\n",
    "    for column in columns: \n",
    "        dataframe[column] = dataframe[column].astype('int64')"
   ]
  },
  {
   "cell_type": "code",
   "execution_count": 5,
   "metadata": {},
   "outputs": [],
   "source": [
    "cols = ['permit_type', 'description', 'current_status',\n",
    "        'current_status_date', 'filed_date', 'issued_date', 'completed_date',\n",
    "        'permit_expiration_date', 'revised_cost', 'proposed_use',\n",
    "        'existing_use', 'plansets','tidf_compliance', 'existing_construction_type',\n",
    "        'proposed_construction_type','site_permit', \n",
    "        'neighborhoods', 'zipcode', 'location','address', 'time_range', 'time_frame',\n",
    "        'region', 'fire_only_permit', 'supervisor_district']\n",
    "df.drop(columns=cols, inplace=True)"
   ]
  },
  {
   "cell_type": "code",
   "execution_count": 6,
   "metadata": {},
   "outputs": [],
   "source": [
    "columns = ['permit_type_definition',\n",
    "           'existing_construction_type_description',\n",
    "           'proposed_construction_type_description',\n",
    "           'decision', 'existing_use_category',\n",
    "           'proposed_use_category']\n",
    "\n",
    "to_category(columns=columns, dataframe=df)"
   ]
  },
  {
   "cell_type": "markdown",
   "metadata": {},
   "source": [
    "Columns that need mean imputed: existing_stories, proposed_stories, estimated_cost, existing_units, proposed_units, latitude, longitude\n",
    "Need to convert categories to code: permit_type_definition, existing_construction_type_description, proposed_construction_type_description, decision, region, existing_use_category, proposed_use_category"
   ]
  },
  {
   "cell_type": "code",
   "execution_count": 7,
   "metadata": {},
   "outputs": [],
   "source": [
    "columns = ['permit_type_definition',\n",
    "           'existing_construction_type_description',\n",
    "           'proposed_construction_type_description',\n",
    "           'existing_use_category',\n",
    "           'proposed_use_category']\n",
    "df = pd.get_dummies(data=df, columns=columns)"
   ]
  },
  {
   "cell_type": "code",
   "execution_count": 8,
   "metadata": {},
   "outputs": [],
   "source": [
    "y = df.decision\n",
    "X = df.drop(columns='decision')"
   ]
  },
  {
   "cell_type": "code",
   "execution_count": 9,
   "metadata": {
    "scrolled": true
   },
   "outputs": [
    {
     "name": "stderr",
     "output_type": "stream",
     "text": [
      "/anaconda3/lib/python3.6/site-packages/sklearn/ensemble/weight_boosting.py:29: DeprecationWarning: numpy.core.umath_tests is an internal NumPy module and should not be imported. It will be removed in a future NumPy release.\n",
      "  from numpy.core.umath_tests import inner1d\n"
     ]
    }
   ],
   "source": [
    "from sklearn.pipeline import make_pipeline\n",
    "from sklearn.preprocessing import Imputer, StandardScaler\n",
    "from sklearn.model_selection import train_test_split, cross_val_score, GridSearchCV, RandomizedSearchCV\n",
    "from sklearn.linear_model import LogisticRegression\n",
    "from sklearn.metrics import confusion_matrix, classification_report\n",
    "from sklearn.ensemble import RandomForestClassifier\n",
    "from sklearn.feature_selection import SelectFromModel"
   ]
  },
  {
   "cell_type": "code",
   "execution_count": 10,
   "metadata": {},
   "outputs": [],
   "source": [
    "imp = Imputer()\n",
    "scaler = StandardScaler()\n",
    "clf = LogisticRegression(multi_class='multinomial', solver='newton-cg')\n",
    "\n",
    "pipeline = make_pipeline(imp, scaler)\n",
    "Xtrain, Xtest, ytrain, ytest = train_test_split(X, y, test_size=0.33, random_state=42)"
   ]
  },
  {
   "cell_type": "code",
   "execution_count": 11,
   "metadata": {},
   "outputs": [],
   "source": [
    "Xtrain_scaled = pipeline.fit_transform(Xtrain)\n",
    "Xtest_scaled = pipeline.transform(Xtest)"
   ]
  },
  {
   "cell_type": "code",
   "execution_count": 12,
   "metadata": {},
   "outputs": [],
   "source": [
    "param_grid = {'C':[0.001, 0.01, 0.1,1,10,50,75, 100, 150, 200]}\n",
    "\n",
    "search = GridSearchCV(estimator=clf, param_grid=param_grid,\n",
    "                      scoring='neg_log_loss', cv=5)"
   ]
  },
  {
   "cell_type": "code",
   "execution_count": 13,
   "metadata": {
    "scrolled": false
   },
   "outputs": [
    {
     "data": {
      "text/plain": [
       "{'C': 100}"
      ]
     },
     "execution_count": 13,
     "metadata": {},
     "output_type": "execute_result"
    }
   ],
   "source": [
    "search.fit(Xtrain_scaled, ytrain)\n",
    "search.best_params_"
   ]
  },
  {
   "cell_type": "code",
   "execution_count": 14,
   "metadata": {},
   "outputs": [],
   "source": [
    "best_clf = LogisticRegression(C=100, multi_class='multinomial', solver='newton-cg')"
   ]
  },
  {
   "cell_type": "code",
   "execution_count": 15,
   "metadata": {},
   "outputs": [
    {
     "data": {
      "text/plain": [
       "LogisticRegression(C=100, class_weight=None, dual=False, fit_intercept=True,\n",
       "          intercept_scaling=1, max_iter=100, multi_class='multinomial',\n",
       "          n_jobs=1, penalty='l2', random_state=None, solver='newton-cg',\n",
       "          tol=0.0001, verbose=0, warm_start=False)"
      ]
     },
     "execution_count": 15,
     "metadata": {},
     "output_type": "execute_result"
    }
   ],
   "source": [
    "best_clf.fit(Xtrain_scaled, ytrain)"
   ]
  },
  {
   "cell_type": "code",
   "execution_count": 16,
   "metadata": {},
   "outputs": [
    {
     "data": {
      "text/plain": [
       "array([[ 4.01724793e-02, -1.28234850e-01,  7.44647706e+00,\n",
       "         3.29281419e-02, -1.96587580e-02,  1.55597035e-02,\n",
       "         5.18397052e-02,  3.97919275e-01,  5.11823959e-02,\n",
       "        -1.39007797e-01,  1.20644216e-01,  2.05814529e-01,\n",
       "        -4.31833796e-01,  6.32786277e-02,  4.81053081e-02,\n",
       "        -1.24389133e-01, -5.04688905e-03,  7.29864909e-02,\n",
       "         1.24815340e-01,  9.41333590e-02, -3.18564078e-02,\n",
       "         1.10448381e-01,  2.88153668e-02, -1.17904581e-02,\n",
       "        -1.25614014e-01, -3.40864335e-01,  2.16098599e-01,\n",
       "        -7.83431796e-02,  1.67362982e-01,  1.86732210e-02,\n",
       "         3.26539944e-02,  1.57204662e-02, -1.60958252e-01,\n",
       "         8.21197168e-02, -1.26932693e-01,  1.89665992e-02,\n",
       "         3.81479270e-02,  2.16786676e-02,  1.75226499e-02],\n",
       "       [-8.83391939e-03,  6.14157528e-02, -1.55525248e+01,\n",
       "        -4.67467949e-02,  4.85082370e-02, -3.20896907e-02,\n",
       "        -4.44361879e-02, -6.66959712e-01, -1.14817995e-01,\n",
       "         2.95950001e-02, -1.62482015e-01, -3.55047413e-01,\n",
       "         7.58046024e-01, -1.48313210e-01, -6.48034040e-02,\n",
       "         9.19079852e-02, -3.86597806e-03, -3.37618913e-02,\n",
       "        -1.04877038e-01, -1.46419974e-01,  8.26316484e-02,\n",
       "        -9.74410268e-02, -2.15717553e-02, -4.02287240e-02,\n",
       "         1.00679745e-01,  4.07698453e-01, -2.59088924e-01,\n",
       "         8.91068386e-02, -3.14803558e-02, -9.47309214e-02,\n",
       "        -7.02181297e-02, -5.00901404e-02,  9.44001749e-02,\n",
       "        -1.86742976e-01, -7.72490931e-02, -9.55801186e-02,\n",
       "        -1.42458126e-01, -8.84484279e-02,  4.73022886e-01],\n",
       "       [-3.13385599e-02,  6.68190971e-02,  8.10604773e+00,\n",
       "         1.38186529e-02, -2.88494790e-02,  1.65299873e-02,\n",
       "        -7.40351730e-03,  2.69040436e-01,  6.36355989e-02,\n",
       "         1.09412797e-01,  4.18377984e-02,  1.49232885e-01,\n",
       "        -3.26212229e-01,  8.50345827e-02,  1.66980958e-02,\n",
       "         3.24811481e-02,  8.91286710e-03, -3.92245996e-02,\n",
       "        -1.99383020e-02,  5.22866145e-02, -5.07752406e-02,\n",
       "        -1.30073539e-02, -7.24361144e-03,  5.20191820e-02,\n",
       "         2.49342689e-02, -6.68341180e-02,  4.29903250e-02,\n",
       "        -1.07636590e-02, -1.35882626e-01,  7.60577004e-02,\n",
       "         3.75641353e-02,  3.43696741e-02,  6.65580773e-02,\n",
       "         1.04623259e-01,  2.04181787e-01,  7.66135194e-02,\n",
       "         1.04310199e-01,  6.67697603e-02, -4.90545535e-01]])"
      ]
     },
     "execution_count": 16,
     "metadata": {},
     "output_type": "execute_result"
    }
   ],
   "source": [
    "best_clf.coef_"
   ]
  },
  {
   "cell_type": "code",
   "execution_count": 17,
   "metadata": {},
   "outputs": [
    {
     "name": "stdout",
     "output_type": "stream",
     "text": [
      "Training Accuracy: 0.7341360886935037\n",
      "Testing Accuracy: 0.7321899736147758\n"
     ]
    }
   ],
   "source": [
    "ypred = best_clf.predict(Xtest_scaled)\n",
    "\n",
    "print(\"Training Accuracy: {}\".format(best_clf.score(Xtrain_scaled, ytrain)))\n",
    "print(\"Testing Accuracy: {}\".format(best_clf.score(Xtest_scaled, ytest)))"
   ]
  },
  {
   "cell_type": "code",
   "execution_count": 18,
   "metadata": {},
   "outputs": [],
   "source": [
    "ypred_prob = best_clf.predict_proba(Xtest_scaled)"
   ]
  },
  {
   "cell_type": "code",
   "execution_count": 19,
   "metadata": {
    "scrolled": true
   },
   "outputs": [],
   "source": [
    "ytest = list(ytest)\n",
    "ypred = list(ypred)\n",
    "confusion_matrix = confusion_matrix(y_true=ytest, y_pred=ypred)"
   ]
  },
  {
   "cell_type": "code",
   "execution_count": 20,
   "metadata": {},
   "outputs": [
    {
     "data": {
      "text/plain": [
       "array([[    1,   495,   565],\n",
       "       [    0, 34756,  2985],\n",
       "       [    3, 12395, 10198]])"
      ]
     },
     "execution_count": 20,
     "metadata": {},
     "output_type": "execute_result"
    }
   ],
   "source": [
    "confusion_matrix"
   ]
  },
  {
   "cell_type": "code",
   "execution_count": 21,
   "metadata": {
    "scrolled": true
   },
   "outputs": [
    {
     "data": {
      "text/html": [
       "<div>\n",
       "<style scoped>\n",
       "    .dataframe tbody tr th:only-of-type {\n",
       "        vertical-align: middle;\n",
       "    }\n",
       "\n",
       "    .dataframe tbody tr th {\n",
       "        vertical-align: top;\n",
       "    }\n",
       "\n",
       "    .dataframe thead th {\n",
       "        text-align: right;\n",
       "    }\n",
       "</style>\n",
       "<table border=\"1\" class=\"dataframe\">\n",
       "  <thead>\n",
       "    <tr style=\"text-align: right;\">\n",
       "      <th>Predicted</th>\n",
       "      <th>denied</th>\n",
       "      <th>instant approval</th>\n",
       "      <th>non-instant approval</th>\n",
       "      <th>All</th>\n",
       "    </tr>\n",
       "    <tr>\n",
       "      <th>True</th>\n",
       "      <th></th>\n",
       "      <th></th>\n",
       "      <th></th>\n",
       "      <th></th>\n",
       "    </tr>\n",
       "  </thead>\n",
       "  <tbody>\n",
       "    <tr>\n",
       "      <th>denied</th>\n",
       "      <td>1</td>\n",
       "      <td>495</td>\n",
       "      <td>565</td>\n",
       "      <td>1061</td>\n",
       "    </tr>\n",
       "    <tr>\n",
       "      <th>instant approval</th>\n",
       "      <td>0</td>\n",
       "      <td>34756</td>\n",
       "      <td>2985</td>\n",
       "      <td>37741</td>\n",
       "    </tr>\n",
       "    <tr>\n",
       "      <th>non-instant approval</th>\n",
       "      <td>3</td>\n",
       "      <td>12395</td>\n",
       "      <td>10198</td>\n",
       "      <td>22596</td>\n",
       "    </tr>\n",
       "    <tr>\n",
       "      <th>All</th>\n",
       "      <td>4</td>\n",
       "      <td>47646</td>\n",
       "      <td>13748</td>\n",
       "      <td>61398</td>\n",
       "    </tr>\n",
       "  </tbody>\n",
       "</table>\n",
       "</div>"
      ],
      "text/plain": [
       "Predicted             denied  instant approval  non-instant approval    All\n",
       "True                                                                       \n",
       "denied                     1               495                   565   1061\n",
       "instant approval           0             34756                  2985  37741\n",
       "non-instant approval       3             12395                 10198  22596\n",
       "All                        4             47646                 13748  61398"
      ]
     },
     "execution_count": 21,
     "metadata": {},
     "output_type": "execute_result"
    }
   ],
   "source": [
    "ytest = pd.Series(ytest)\n",
    "ypred = pd.Series(ypred)\n",
    "pd.crosstab(ytest, ypred, rownames=['True'], colnames=['Predicted'], margins=True)"
   ]
  },
  {
   "cell_type": "code",
   "execution_count": 22,
   "metadata": {},
   "outputs": [
    {
     "data": {
      "image/png": "[encoded data removed]",
      "text/plain": [
       "<Figure size 432x288 with 1 Axes>"
      ]
     },
     "metadata": {},
     "output_type": "display_data"
    }
   ],
   "source": [
    "plt.imshow(confusion_matrix, cmap='binary', interpolation='None')\n",
    "plt.show()"
   ]
  },
  {
   "cell_type": "code",
   "execution_count": 23,
   "metadata": {},
   "outputs": [
    {
     "name": "stdout",
     "output_type": "stream",
     "text": [
      "                      precision    recall  f1-score   support\n",
      "\n",
      "              denied       0.25      0.00      0.00      1061\n",
      "    instant approval       0.73      0.92      0.81     37741\n",
      "non-instant approval       0.74      0.45      0.56     22596\n",
      "\n",
      "         avg / total       0.73      0.73      0.71     61398\n",
      "\n"
     ]
    }
   ],
   "source": [
    "print(classification_report(ytest, ypred))"
   ]
  },
  {
   "cell_type": "code",
   "execution_count": 24,
   "metadata": {},
   "outputs": [],
   "source": [
    "from sklearn.metrics import log_loss "
   ]
  },
  {
   "cell_type": "code",
   "execution_count": 25,
   "metadata": {},
   "outputs": [
    {
     "name": "stdout",
     "output_type": "stream",
     "text": [
      "0.5545201405325255\n"
     ]
    }
   ],
   "source": [
    "y = log_loss(y_true=ytest, y_pred=ypred_prob, labels=['denied', 'instant approval', 'non-instant approval'])\n",
    "print(y)"
   ]
  },
  {
   "cell_type": "markdown",
   "metadata": {},
   "source": [
    "### Random Forest Classifier"
   ]
  },
  {
   "cell_type": "code",
   "execution_count": 26,
   "metadata": {},
   "outputs": [],
   "source": [
    "rfc = RandomForestClassifier()"
   ]
  },
  {
   "cell_type": "code",
   "execution_count": 27,
   "metadata": {},
   "outputs": [],
   "source": [
    "n_estimators = [int(x) for x in np.linspace(start = 25, stop = 700, num = 25)]\n",
    "max_depth = [int(x) for x in np.linspace(10, 110, num = 11)]\n",
    "max_depth.append(None)\n",
    "min_samples_split = [2, 5, 10]\n",
    "min_samples_leaf = [1, 2, 4]\n",
    "param = {'n_estimators':n_estimators, \n",
    "         'max_depth':max_depth,\n",
    "         'min_samples_split':min_samples_split,\n",
    "         'min_samples_leaf':min_samples_leaf}"
   ]
  },
  {
   "cell_type": "code",
   "execution_count": 28,
   "metadata": {},
   "outputs": [],
   "source": [
    "imp = Imputer()\n",
    "Xtrain = imp.fit_transform(Xtrain)\n",
    "Xtest = imp.transform(Xtest)"
   ]
  },
  {
   "cell_type": "code",
   "execution_count": 29,
   "metadata": {},
   "outputs": [
    {
     "data": {
      "text/plain": [
       "{'n_estimators': 531,\n",
       " 'min_samples_split': 2,\n",
       " 'min_samples_leaf': 2,\n",
       " 'max_depth': 60}"
      ]
     },
     "execution_count": 29,
     "metadata": {},
     "output_type": "execute_result"
    }
   ],
   "source": [
    "rscv = RandomizedSearchCV(estimator=rfc, param_distributions=param,\n",
    "                                 n_iter=20, scoring='neg_log_loss', cv=5)\n",
    "\n",
    "rscv.fit(Xtrain, ytrain)\n",
    "rscv.best_params_"
   ]
  },
  {
   "cell_type": "code",
   "execution_count": 30,
   "metadata": {},
   "outputs": [
    {
     "data": {
      "text/plain": [
       "RandomForestClassifier(bootstrap=True, class_weight=None, criterion='gini',\n",
       "            max_depth=60, max_features='auto', max_leaf_nodes=None,\n",
       "            min_impurity_decrease=0.0, min_impurity_split=None,\n",
       "            min_samples_leaf=2, min_samples_split=2,\n",
       "            min_weight_fraction_leaf=0.0, n_estimators=531, n_jobs=1,\n",
       "            oob_score=False, random_state=None, verbose=0,\n",
       "            warm_start=False)"
      ]
     },
     "execution_count": 30,
     "metadata": {},
     "output_type": "execute_result"
    }
   ],
   "source": [
    "rfc = RandomForestClassifier(n_estimators=531, min_samples_split=2, min_samples_leaf=2, max_depth=60)\n",
    "rfc.fit(Xtrain, ytrain)"
   ]
  },
  {
   "cell_type": "code",
   "execution_count": 31,
   "metadata": {},
   "outputs": [],
   "source": [
    "lst = df.drop(columns='decision')\n",
    "lst = list(lst.columns)"
   ]
  },
  {
   "cell_type": "code",
   "execution_count": 32,
   "metadata": {},
   "outputs": [
    {
     "name": "stdout",
     "output_type": "stream",
     "text": [
      "('number_of_existing_stories', 0.031965929505604763)\n",
      "('number_of_proposed_stories', 0.03319847313158885)\n",
      "('estimated_cost', 0.2814828040058564)\n",
      "('existing_units', 0.035273487753151075)\n",
      "('proposed_units', 0.0338595190630969)\n",
      "('latitude', 0.11484670480226947)\n",
      "('longitude', 0.11621448432119365)\n",
      "('permit_type_definition_additions alterations or repairs', 0.04377784183310655)\n",
      "('permit_type_definition_demolitions', 0.00039872535852931155)\n",
      "('permit_type_definition_grade or quarry or fill or excavate', 0.000492898289871471)\n",
      "('permit_type_definition_new construction', 0.00011157485993870908)\n",
      "('permit_type_definition_new construction wood frame', 0.0006121277722132384)\n",
      "('permit_type_definition_otc alterations permit', 0.08379524940328592)\n",
      "('permit_type_definition_sign - erect', 0.0029483182042580117)\n",
      "('permit_type_definition_wall or painted sign', 0.0012828474839110568)\n",
      "('existing_construction_type_description_constr type 1', 0.0038397636546373955)\n",
      "('existing_construction_type_description_constr type 2', 0.0009759210330726584)\n",
      "('existing_construction_type_description_constr type 3', 0.0017657993873234842)\n",
      "('existing_construction_type_description_constr type 4', 0.0003425203630598934)\n",
      "('existing_construction_type_description_unknown', 0.028664927450091318)\n",
      "('existing_construction_type_description_wood frame (5)', 0.005408275779354583)\n",
      "('proposed_construction_type_description_constr type 1', 0.0027385036930332113)\n",
      "('proposed_construction_type_description_constr type 2', 0.0008764861687050074)\n",
      "('proposed_construction_type_description_constr type 3', 0.0017236348235323499)\n",
      "('proposed_construction_type_description_constr type 4', 0.00019620527124292953)\n",
      "('proposed_construction_type_description_unknown', 0.03327677341676627)\n",
      "('proposed_construction_type_description_wood frame (5)', 0.005913775548569942)\n",
      "('existing_use_category_apartment', 0.005727678845506901)\n",
      "('existing_use_category_house', 0.005385436850293658)\n",
      "('existing_use_category_office', 0.004362555577324557)\n",
      "('existing_use_category_other', 0.008885165914362059)\n",
      "('existing_use_category_retail sales', 0.003553527473003962)\n",
      "('existing_use_category_unknown', 0.046691881018894835)\n",
      "('proposed_use_category_apartment', 0.005350868292595286)\n",
      "('proposed_use_category_house', 0.004640714654433013)\n",
      "('proposed_use_category_office', 0.0032852281953348987)\n",
      "('proposed_use_category_other', 0.005845465375592616)\n",
      "('proposed_use_category_retail sales', 0.0020336878497622893)\n",
      "('proposed_use_category_unknown', 0.038254217575631265)\n"
     ]
    }
   ],
   "source": [
    "for feature in zip(lst, rfc.feature_importances_):\n",
    "    print(feature)"
   ]
  },
  {
   "cell_type": "code",
   "execution_count": 33,
   "metadata": {},
   "outputs": [],
   "source": [
    "ypred = rfc.predict(Xtest)"
   ]
  },
  {
   "cell_type": "code",
   "execution_count": 34,
   "metadata": {},
   "outputs": [
    {
     "name": "stdout",
     "output_type": "stream",
     "text": [
      "Training Accuracy: 0.863060952717121\n",
      "Testing Accuracy: 0.7846509658295059\n"
     ]
    }
   ],
   "source": [
    "print(\"Training Accuracy: {}\".format(rfc.score(Xtrain, ytrain)))\n",
    "print(\"Testing Accuracy: {}\".format(rfc.score(Xtest, ytest)))"
   ]
  },
  {
   "cell_type": "code",
   "execution_count": 35,
   "metadata": {},
   "outputs": [
    {
     "name": "stdout",
     "output_type": "stream",
     "text": [
      "                      precision    recall  f1-score   support\n",
      "\n",
      "              denied       0.93      0.05      0.10      1061\n",
      "    instant approval       0.79      0.90      0.84     37741\n",
      "non-instant approval       0.76      0.63      0.69     22596\n",
      "\n",
      "         avg / total       0.78      0.78      0.77     61398\n",
      "\n"
     ]
    }
   ],
   "source": [
    "print(classification_report(ytest, ypred))"
   ]
  },
  {
   "cell_type": "code",
   "execution_count": 36,
   "metadata": {},
   "outputs": [
    {
     "data": {
      "text/html": [
       "<div>\n",
       "<style scoped>\n",
       "    .dataframe tbody tr th:only-of-type {\n",
       "        vertical-align: middle;\n",
       "    }\n",
       "\n",
       "    .dataframe tbody tr th {\n",
       "        vertical-align: top;\n",
       "    }\n",
       "\n",
       "    .dataframe thead th {\n",
       "        text-align: right;\n",
       "    }\n",
       "</style>\n",
       "<table border=\"1\" class=\"dataframe\">\n",
       "  <thead>\n",
       "    <tr style=\"text-align: right;\">\n",
       "      <th>Predicted</th>\n",
       "      <th>denied</th>\n",
       "      <th>instant approval</th>\n",
       "      <th>non-instant approval</th>\n",
       "      <th>All</th>\n",
       "    </tr>\n",
       "    <tr>\n",
       "      <th>True</th>\n",
       "      <th></th>\n",
       "      <th></th>\n",
       "      <th></th>\n",
       "      <th></th>\n",
       "    </tr>\n",
       "  </thead>\n",
       "  <tbody>\n",
       "    <tr>\n",
       "      <th>denied</th>\n",
       "      <td>55</td>\n",
       "      <td>406</td>\n",
       "      <td>600</td>\n",
       "      <td>1061</td>\n",
       "    </tr>\n",
       "    <tr>\n",
       "      <th>instant approval</th>\n",
       "      <td>4</td>\n",
       "      <td>33973</td>\n",
       "      <td>3764</td>\n",
       "      <td>37741</td>\n",
       "    </tr>\n",
       "    <tr>\n",
       "      <th>non-instant approval</th>\n",
       "      <td>0</td>\n",
       "      <td>8448</td>\n",
       "      <td>14148</td>\n",
       "      <td>22596</td>\n",
       "    </tr>\n",
       "    <tr>\n",
       "      <th>All</th>\n",
       "      <td>59</td>\n",
       "      <td>42827</td>\n",
       "      <td>18512</td>\n",
       "      <td>61398</td>\n",
       "    </tr>\n",
       "  </tbody>\n",
       "</table>\n",
       "</div>"
      ],
      "text/plain": [
       "Predicted             denied  instant approval  non-instant approval    All\n",
       "True                                                                       \n",
       "denied                    55               406                   600   1061\n",
       "instant approval           4             33973                  3764  37741\n",
       "non-instant approval       0              8448                 14148  22596\n",
       "All                       59             42827                 18512  61398"
      ]
     },
     "execution_count": 36,
     "metadata": {},
     "output_type": "execute_result"
    }
   ],
   "source": [
    "ytest = pd.Series(ytest)\n",
    "ypred = pd.Series(ypred)\n",
    "pd.crosstab(ytest, ypred, rownames=['True'], colnames=['Predicted'], margins=True)"
   ]
  },
  {
   "cell_type": "code",
   "execution_count": 37,
   "metadata": {},
   "outputs": [
    {
     "name": "stdout",
     "output_type": "stream",
     "text": [
      "0.4866474213203463\n"
     ]
    }
   ],
   "source": [
    "ypred_prob = rfc.predict_proba(Xtest)\n",
    "y = log_loss(y_true=ytest, y_pred=ypred_prob, labels=['denied', 'instant approval', 'non-instant approval'])\n",
    "print(y)"
   ]
  },
  {
   "cell_type": "markdown",
   "metadata": {},
   "source": [
    "### Random Forest With Feature Selection"
   ]
  },
  {
   "cell_type": "code",
   "execution_count": 38,
   "metadata": {},
   "outputs": [
    {
     "data": {
      "text/plain": [
       "SelectFromModel(estimator=RandomForestClassifier(bootstrap=True, class_weight=None, criterion='gini',\n",
       "            max_depth=60, max_features='auto', max_leaf_nodes=None,\n",
       "            min_impurity_decrease=0.0, min_impurity_split=None,\n",
       "            min_samples_leaf=2, min_samples_split=2,\n",
       "            min_weight_fraction_leaf=0.0, n_estimators=531, n_jobs=1,\n",
       "            oob_score=False, random_state=None, verbose=0,\n",
       "            warm_start=False),\n",
       "        norm_order=1, prefit=False, threshold=None)"
      ]
     },
     "execution_count": 38,
     "metadata": {},
     "output_type": "execute_result"
    }
   ],
   "source": [
    "sfm = SelectFromModel(estimator=rfc)\n",
    "sfm.fit(Xtrain, ytrain)"
   ]
  },
  {
   "cell_type": "code",
   "execution_count": 39,
   "metadata": {},
   "outputs": [
    {
     "name": "stdout",
     "output_type": "stream",
     "text": [
      "number_of_existing_stories\n",
      "number_of_proposed_stories\n",
      "estimated_cost\n",
      "existing_units\n",
      "proposed_units\n",
      "latitude\n",
      "longitude\n",
      "permit_type_definition_additions alterations or repairs\n",
      "permit_type_definition_otc alterations permit\n",
      "existing_construction_type_description_unknown\n",
      "proposed_construction_type_description_unknown\n",
      "existing_use_category_unknown\n",
      "proposed_use_category_unknown\n"
     ]
    }
   ],
   "source": [
    "nw_lst = []\n",
    "for feature_list_index in sfm.get_support(indices=True):\n",
    "    print(lst[feature_list_index])\n",
    "    nw_lst.append(lst[feature_list_index])"
   ]
  },
  {
   "cell_type": "code",
   "execution_count": 40,
   "metadata": {},
   "outputs": [],
   "source": [
    "X_important_train = sfm.transform(Xtrain)\n",
    "X_important_test = sfm.transform(Xtest)"
   ]
  },
  {
   "cell_type": "code",
   "execution_count": 41,
   "metadata": {},
   "outputs": [
    {
     "data": {
      "text/plain": [
       "{'n_estimators': 559,\n",
       " 'min_samples_split': 5,\n",
       " 'min_samples_leaf': 2,\n",
       " 'max_depth': 40}"
      ]
     },
     "execution_count": 41,
     "metadata": {},
     "output_type": "execute_result"
    }
   ],
   "source": [
    "search = RandomizedSearchCV(estimator=rfc, param_distributions=param,\n",
    "                                 n_iter=20, scoring='neg_log_loss', cv=5)\n",
    "\n",
    "search.fit(X_important_train, ytrain)\n",
    "search.best_params_"
   ]
  },
  {
   "cell_type": "code",
   "execution_count": 42,
   "metadata": {},
   "outputs": [
    {
     "data": {
      "text/plain": [
       "RandomForestClassifier(bootstrap=True, class_weight=None, criterion='gini',\n",
       "            max_depth=40, max_features='auto', max_leaf_nodes=None,\n",
       "            min_impurity_decrease=0.0, min_impurity_split=None,\n",
       "            min_samples_leaf=2, min_samples_split=5,\n",
       "            min_weight_fraction_leaf=0.0, n_estimators=559, n_jobs=1,\n",
       "            oob_score=False, random_state=None, verbose=0,\n",
       "            warm_start=False)"
      ]
     },
     "execution_count": 42,
     "metadata": {},
     "output_type": "execute_result"
    }
   ],
   "source": [
    "rfc_important = RandomForestClassifier(n_estimators=559, min_samples_split=5, min_samples_leaf=2, max_depth=40)\n",
    "rfc_important.fit(X_important_train, ytrain)"
   ]
  },
  {
   "cell_type": "code",
   "execution_count": 43,
   "metadata": {},
   "outputs": [
    {
     "name": "stdout",
     "output_type": "stream",
     "text": [
      "('number_of_existing_stories', 0.028957912390880407)\n",
      "('number_of_proposed_stories', 0.03139032356102887)\n",
      "('estimated_cost', 0.2800877209654945)\n",
      "('existing_units', 0.042557423580991995)\n",
      "('proposed_units', 0.040797127875501535)\n",
      "('latitude', 0.14414447019931795)\n",
      "('longitude', 0.14637332272013717)\n",
      "('permit_type_definition_additions alterations or repairs', 0.035256376757424296)\n",
      "('permit_type_definition_otc alterations permit', 0.09193146626466259)\n",
      "('existing_construction_type_description_unknown', 0.031443913040745126)\n",
      "('proposed_construction_type_description_unknown', 0.03201779871051974)\n",
      "('existing_use_category_unknown', 0.04445108706104789)\n",
      "('proposed_use_category_unknown', 0.05059105687224772)\n"
     ]
    }
   ],
   "source": [
    "for feature in zip(nw_lst, rfc_important.feature_importances_):\n",
    "    print(feature)"
   ]
  },
  {
   "cell_type": "code",
   "execution_count": 44,
   "metadata": {},
   "outputs": [],
   "source": [
    "ypred = rfc_important.predict(X_important_test)"
   ]
  },
  {
   "cell_type": "code",
   "execution_count": 45,
   "metadata": {},
   "outputs": [
    {
     "name": "stdout",
     "output_type": "stream",
     "text": [
      "Training Accuracy: 0.8832528438718372\n",
      "Testing Accuracy: 0.7843740838463794\n"
     ]
    }
   ],
   "source": [
    "print(\"Training Accuracy: {}\".format(rfc_important.score(X_important_train, ytrain)))\n",
    "print(\"Testing Accuracy: {}\".format(rfc_important.score(X_important_test, ytest)))"
   ]
  },
  {
   "cell_type": "code",
   "execution_count": 46,
   "metadata": {},
   "outputs": [
    {
     "name": "stdout",
     "output_type": "stream",
     "text": [
      "                      precision    recall  f1-score   support\n",
      "\n",
      "              denied       0.97      0.06      0.11      1061\n",
      "    instant approval       0.79      0.90      0.84     37741\n",
      "non-instant approval       0.76      0.63      0.69     22596\n",
      "\n",
      "         avg / total       0.79      0.78      0.77     61398\n",
      "\n"
     ]
    }
   ],
   "source": [
    "print(classification_report(ytest, ypred))"
   ]
  },
  {
   "cell_type": "code",
   "execution_count": 47,
   "metadata": {},
   "outputs": [
    {
     "data": {
      "text/html": [
       "<div>\n",
       "<style scoped>\n",
       "    .dataframe tbody tr th:only-of-type {\n",
       "        vertical-align: middle;\n",
       "    }\n",
       "\n",
       "    .dataframe tbody tr th {\n",
       "        vertical-align: top;\n",
       "    }\n",
       "\n",
       "    .dataframe thead th {\n",
       "        text-align: right;\n",
       "    }\n",
       "</style>\n",
       "<table border=\"1\" class=\"dataframe\">\n",
       "  <thead>\n",
       "    <tr style=\"text-align: right;\">\n",
       "      <th>Predicted</th>\n",
       "      <th>denied</th>\n",
       "      <th>instant approval</th>\n",
       "      <th>non-instant approval</th>\n",
       "      <th>All</th>\n",
       "    </tr>\n",
       "    <tr>\n",
       "      <th>True</th>\n",
       "      <th></th>\n",
       "      <th></th>\n",
       "      <th></th>\n",
       "      <th></th>\n",
       "    </tr>\n",
       "  </thead>\n",
       "  <tbody>\n",
       "    <tr>\n",
       "      <th>denied</th>\n",
       "      <td>61</td>\n",
       "      <td>407</td>\n",
       "      <td>593</td>\n",
       "      <td>1061</td>\n",
       "    </tr>\n",
       "    <tr>\n",
       "      <th>instant approval</th>\n",
       "      <td>2</td>\n",
       "      <td>33864</td>\n",
       "      <td>3875</td>\n",
       "      <td>37741</td>\n",
       "    </tr>\n",
       "    <tr>\n",
       "      <th>non-instant approval</th>\n",
       "      <td>0</td>\n",
       "      <td>8362</td>\n",
       "      <td>14234</td>\n",
       "      <td>22596</td>\n",
       "    </tr>\n",
       "    <tr>\n",
       "      <th>All</th>\n",
       "      <td>63</td>\n",
       "      <td>42633</td>\n",
       "      <td>18702</td>\n",
       "      <td>61398</td>\n",
       "    </tr>\n",
       "  </tbody>\n",
       "</table>\n",
       "</div>"
      ],
      "text/plain": [
       "Predicted             denied  instant approval  non-instant approval    All\n",
       "True                                                                       \n",
       "denied                    61               407                   593   1061\n",
       "instant approval           2             33864                  3875  37741\n",
       "non-instant approval       0              8362                 14234  22596\n",
       "All                       63             42633                 18702  61398"
      ]
     },
     "execution_count": 47,
     "metadata": {},
     "output_type": "execute_result"
    }
   ],
   "source": [
    "ytest = pd.Series(ytest)\n",
    "ypred = pd.Series(ypred)\n",
    "pd.crosstab(ytest, ypred, rownames=['True'], colnames=['Predicted'], margins=True)"
   ]
  },
  {
   "cell_type": "code",
   "execution_count": 48,
   "metadata": {},
   "outputs": [
    {
     "name": "stdout",
     "output_type": "stream",
     "text": [
      "0.48699774690417375\n"
     ]
    }
   ],
   "source": [
    "ypred_prob = rfc_important.predict_proba(X_important_test)\n",
    "y = log_loss(y_true=ytest, y_pred=ypred_prob, labels=['denied', 'instant approval', 'non-instant approval'])\n",
    "print(y)"
   ]
  },
  {
   "cell_type": "markdown",
   "metadata": {},
   "source": [
    "The most predictive features are estimated cost, latitude, longitude and whether it is permit type 8"
   ]
  }
 ],
 "metadata": {
  "kernelspec": {
   "display_name": "Python [conda env:anaconda3]",
   "language": "python",
   "name": "conda-env-anaconda3-py"
  },
  "language_info": {
   "codemirror_mode": {
    "name": "ipython",
    "version": 3
   },
   "file_extension": ".py",
   "mimetype": "text/x-python",
   "name": "python",
   "nbconvert_exporter": "python",
   "pygments_lexer": "ipython3",
   "version": "3.6.6"
  }
 },
 "nbformat": 4,
 "nbformat_minor": 2
}
