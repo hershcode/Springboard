{
 "cells": [
  {
   "cell_type": "markdown",
   "metadata": {},
   "source": [
    "<center> <h1> Statistical Analysis for San Francisco Building Permits </h1> </center>  \n",
    "\n",
    "The goal of this report is to perform statistical analysis on the dataset and find correlations between independent variables and with dependent variables. "
   ]
  },
  {
   "cell_type": "code",
   "execution_count": 1,
   "metadata": {},
   "outputs": [],
   "source": [
    "import datetime as dt \n",
    "import numpy as np\n",
    "import pandas as pd\n",
    "import seaborn as sb \n",
    "import matplotlib.pyplot as plt \n",
    "import scipy.stats as stats\n",
    "import matplotlib.style as style\n",
    "import statsmodels.api as sm"
   ]
  },
  {
   "cell_type": "code",
   "execution_count": 2,
   "metadata": {},
   "outputs": [],
   "source": [
    "df = pd.read_csv(filepath_or_buffer='Building_Permits_Cleaned.csv',\n",
    "                 header=0, low_memory=False, index_col='Unnamed: 0')"
   ]
  },
  {
   "cell_type": "code",
   "execution_count": 3,
   "metadata": {},
   "outputs": [],
   "source": [
    "def to_category(columns, dataframe):\n",
    "    \"\"\"Convert a list of columns, from a dataframe, to a category datatype\"\"\"\n",
    "    for column in columns: \n",
    "        dataframe[column] = dataframe[column].astype('category')\n",
    "\n",
    "def to_integer(columns, dataframe):\n",
    "    \"\"\"Convert columns from a dataframe to an int64 datatype\"\"\"\n",
    "    for column in columns: \n",
    "        dataframe[column] = dataframe[column].astype('int64')"
   ]
  },
  {
   "cell_type": "code",
   "execution_count": 4,
   "metadata": {},
   "outputs": [],
   "source": [
    "cols = ['permit_creation_date', 'current_status_date','filed_date',\n",
    "        'issued_date', 'completed_date', 'first_construction_document_date',\n",
    "        'permit_expiration_date']\n",
    "\n",
    "for col in cols:\n",
    "    df[col] = pd.to_datetime(df[col])\n",
    "\n",
    "    \n",
    "columns = ['permit_type_definition', 'current_status', 'fire_only_permit', \n",
    "           'existing_use', 'proposed_use', 'existing_construction_type',\n",
    "           'proposed_construction_type','existing_construction_type_description',\n",
    "           'proposed_construction_type_description', 'tidf_compliance',\n",
    "           'site_permit', 'neighborhoods', 'zipcode',\n",
    "           'time_frame']\n",
    "\n",
    "to_category(columns=columns, dataframe=df)"
   ]
  },
  {
   "cell_type": "code",
   "execution_count": 5,
   "metadata": {
    "scrolled": true
   },
   "outputs": [
    {
     "data": {
      "text/html": [
       "<div>\n",
       "<style scoped>\n",
       "    .dataframe tbody tr th:only-of-type {\n",
       "        vertical-align: middle;\n",
       "    }\n",
       "\n",
       "    .dataframe tbody tr th {\n",
       "        vertical-align: top;\n",
       "    }\n",
       "\n",
       "    .dataframe thead th {\n",
       "        text-align: right;\n",
       "    }\n",
       "</style>\n",
       "<table border=\"1\" class=\"dataframe\">\n",
       "  <thead>\n",
       "    <tr style=\"text-align: right;\">\n",
       "      <th></th>\n",
       "      <th>permit_type</th>\n",
       "      <th>street_number</th>\n",
       "      <th>number_of_existing_stories</th>\n",
       "      <th>number_of_proposed_stories</th>\n",
       "      <th>estimated_cost</th>\n",
       "      <th>revised_cost</th>\n",
       "      <th>existing_units</th>\n",
       "      <th>proposed_units</th>\n",
       "      <th>plansets</th>\n",
       "      <th>latitude</th>\n",
       "      <th>longitude</th>\n",
       "      <th>time_range</th>\n",
       "    </tr>\n",
       "  </thead>\n",
       "  <tbody>\n",
       "    <tr>\n",
       "      <th>count</th>\n",
       "      <td>198900.000000</td>\n",
       "      <td>198900.000000</td>\n",
       "      <td>156116.000000</td>\n",
       "      <td>156032.000000</td>\n",
       "      <td>1.608340e+05</td>\n",
       "      <td>1.928340e+05</td>\n",
       "      <td>147362.000000</td>\n",
       "      <td>147989.000000</td>\n",
       "      <td>161591.000000</td>\n",
       "      <td>197200.000000</td>\n",
       "      <td>197200.000000</td>\n",
       "      <td>183960.000000</td>\n",
       "    </tr>\n",
       "    <tr>\n",
       "      <th>mean</th>\n",
       "      <td>7.522323</td>\n",
       "      <td>1121.728944</td>\n",
       "      <td>5.705773</td>\n",
       "      <td>5.745043</td>\n",
       "      <td>1.689554e+05</td>\n",
       "      <td>1.328562e+05</td>\n",
       "      <td>15.666164</td>\n",
       "      <td>16.510950</td>\n",
       "      <td>1.274650</td>\n",
       "      <td>37.768751</td>\n",
       "      <td>-122.431812</td>\n",
       "      <td>26.054697</td>\n",
       "    </tr>\n",
       "    <tr>\n",
       "      <th>std</th>\n",
       "      <td>1.457451</td>\n",
       "      <td>1135.768948</td>\n",
       "      <td>8.613455</td>\n",
       "      <td>8.613284</td>\n",
       "      <td>3.630386e+06</td>\n",
       "      <td>3.584903e+06</td>\n",
       "      <td>74.476321</td>\n",
       "      <td>75.220444</td>\n",
       "      <td>22.407345</td>\n",
       "      <td>0.023730</td>\n",
       "      <td>0.028556</td>\n",
       "      <td>91.061716</td>\n",
       "    </tr>\n",
       "    <tr>\n",
       "      <th>min</th>\n",
       "      <td>1.000000</td>\n",
       "      <td>0.000000</td>\n",
       "      <td>0.000000</td>\n",
       "      <td>0.000000</td>\n",
       "      <td>1.000000e+00</td>\n",
       "      <td>0.000000e+00</td>\n",
       "      <td>0.000000</td>\n",
       "      <td>0.000000</td>\n",
       "      <td>0.000000</td>\n",
       "      <td>37.708170</td>\n",
       "      <td>-122.510938</td>\n",
       "      <td>0.000000</td>\n",
       "    </tr>\n",
       "    <tr>\n",
       "      <th>25%</th>\n",
       "      <td>8.000000</td>\n",
       "      <td>235.000000</td>\n",
       "      <td>2.000000</td>\n",
       "      <td>2.000000</td>\n",
       "      <td>3.300000e+03</td>\n",
       "      <td>1.000000e+00</td>\n",
       "      <td>1.000000</td>\n",
       "      <td>1.000000</td>\n",
       "      <td>0.000000</td>\n",
       "      <td>37.752218</td>\n",
       "      <td>-122.447257</td>\n",
       "      <td>0.000000</td>\n",
       "    </tr>\n",
       "    <tr>\n",
       "      <th>50%</th>\n",
       "      <td>8.000000</td>\n",
       "      <td>710.000000</td>\n",
       "      <td>3.000000</td>\n",
       "      <td>3.000000</td>\n",
       "      <td>1.100000e+04</td>\n",
       "      <td>7.000000e+03</td>\n",
       "      <td>1.000000</td>\n",
       "      <td>2.000000</td>\n",
       "      <td>2.000000</td>\n",
       "      <td>37.773440</td>\n",
       "      <td>-122.427673</td>\n",
       "      <td>0.000000</td>\n",
       "    </tr>\n",
       "    <tr>\n",
       "      <th>75%</th>\n",
       "      <td>8.000000</td>\n",
       "      <td>1700.000000</td>\n",
       "      <td>4.000000</td>\n",
       "      <td>4.000000</td>\n",
       "      <td>3.500000e+04</td>\n",
       "      <td>2.870750e+04</td>\n",
       "      <td>4.000000</td>\n",
       "      <td>4.000000</td>\n",
       "      <td>2.000000</td>\n",
       "      <td>37.788825</td>\n",
       "      <td>-122.409675</td>\n",
       "      <td>6.000000</td>\n",
       "    </tr>\n",
       "    <tr>\n",
       "      <th>max</th>\n",
       "      <td>8.000000</td>\n",
       "      <td>8400.000000</td>\n",
       "      <td>78.000000</td>\n",
       "      <td>78.000000</td>\n",
       "      <td>5.379586e+08</td>\n",
       "      <td>7.805000e+08</td>\n",
       "      <td>1907.000000</td>\n",
       "      <td>1911.000000</td>\n",
       "      <td>9000.000000</td>\n",
       "      <td>37.825017</td>\n",
       "      <td>-122.365853</td>\n",
       "      <td>1740.000000</td>\n",
       "    </tr>\n",
       "  </tbody>\n",
       "</table>\n",
       "</div>"
      ],
      "text/plain": [
       "         permit_type  street_number  number_of_existing_stories  \\\n",
       "count  198900.000000  198900.000000               156116.000000   \n",
       "mean        7.522323    1121.728944                    5.705773   \n",
       "std         1.457451    1135.768948                    8.613455   \n",
       "min         1.000000       0.000000                    0.000000   \n",
       "25%         8.000000     235.000000                    2.000000   \n",
       "50%         8.000000     710.000000                    3.000000   \n",
       "75%         8.000000    1700.000000                    4.000000   \n",
       "max         8.000000    8400.000000                   78.000000   \n",
       "\n",
       "       number_of_proposed_stories  estimated_cost  revised_cost  \\\n",
       "count               156032.000000    1.608340e+05  1.928340e+05   \n",
       "mean                     5.745043    1.689554e+05  1.328562e+05   \n",
       "std                      8.613284    3.630386e+06  3.584903e+06   \n",
       "min                      0.000000    1.000000e+00  0.000000e+00   \n",
       "25%                      2.000000    3.300000e+03  1.000000e+00   \n",
       "50%                      3.000000    1.100000e+04  7.000000e+03   \n",
       "75%                      4.000000    3.500000e+04  2.870750e+04   \n",
       "max                     78.000000    5.379586e+08  7.805000e+08   \n",
       "\n",
       "       existing_units  proposed_units       plansets       latitude  \\\n",
       "count   147362.000000   147989.000000  161591.000000  197200.000000   \n",
       "mean        15.666164       16.510950       1.274650      37.768751   \n",
       "std         74.476321       75.220444      22.407345       0.023730   \n",
       "min          0.000000        0.000000       0.000000      37.708170   \n",
       "25%          1.000000        1.000000       0.000000      37.752218   \n",
       "50%          1.000000        2.000000       2.000000      37.773440   \n",
       "75%          4.000000        4.000000       2.000000      37.788825   \n",
       "max       1907.000000     1911.000000    9000.000000      37.825017   \n",
       "\n",
       "           longitude     time_range  \n",
       "count  197200.000000  183960.000000  \n",
       "mean     -122.431812      26.054697  \n",
       "std         0.028556      91.061716  \n",
       "min      -122.510938       0.000000  \n",
       "25%      -122.447257       0.000000  \n",
       "50%      -122.427673       0.000000  \n",
       "75%      -122.409675       6.000000  \n",
       "max      -122.365853    1740.000000  "
      ]
     },
     "execution_count": 5,
     "metadata": {},
     "output_type": "execute_result"
    }
   ],
   "source": [
    "df.describe()"
   ]
  },
  {
   "cell_type": "code",
   "execution_count": 6,
   "metadata": {},
   "outputs": [],
   "source": [
    "def twoSampZ(X1, X2, mudiff, sd1, sd2, n1, n2):\n",
    "    from numpy import sqrt, abs, round\n",
    "    from scipy.stats import norm\n",
    "    pooledSE = sqrt(sd1**2/n1 + sd2**2/n2)\n",
    "    z = ((X1 - X2) - mudiff)/pooledSE\n",
    "    pval = 2*(1 - norm.cdf(abs(z)))\n",
    "    return round(z, 3), round(pval, 4)"
   ]
  },
  {
   "cell_type": "markdown",
   "metadata": {},
   "source": [
    "## Hypotheses to investigate:\n",
    "**Null Hypothesis:** Permit type has no effect on approval time. In other words: Mean approval time = 26 days   \n",
    "**Alternative Hypothesis:** Permit type has an effect on approval time. In other words: Mean approval time != 26 days\n",
    "\n",
    "**Null Hypothesis:** Zipcode (region) has no effect on approval time. In other words: Mean approval time = 26 days  \n",
    "**Alternative Hypothesis:** Zipcode (region) has an effect on approval time.  In other words: Mean approval time != 26 days  \n",
    "\n",
    "**Null Hypothesis:** Proposed construction type has no effect on approval time. In other words: Mean approval time = 26 days    \n",
    "**Alternative Hypothesis:** Proposed construction type has an effect on approval time. In other words: Mean approval time != 26 days "
   ]
  },
  {
   "cell_type": "markdown",
   "metadata": {},
   "source": [
    "**First Hypothesis Test**"
   ]
  },
  {
   "cell_type": "code",
   "execution_count": 7,
   "metadata": {},
   "outputs": [],
   "source": [
    "one = df[df.permit_type == 1]\n",
    "two = df[df.permit_type == 2]\n",
    "three = df[df.permit_type == 3]\n",
    "four = df[df.permit_type == 4]\n",
    "five = df[df.permit_type == 5]\n",
    "six = df[df.permit_type == 6]\n",
    "seven = df[df.permit_type == 7]\n",
    "eight = df[df.permit_type == 8]"
   ]
  },
  {
   "cell_type": "code",
   "execution_count": 8,
   "metadata": {},
   "outputs": [],
   "source": [
    "one = one[one.time_range.notnull()]\n",
    "two = two[two.time_range.notnull()]\n",
    "three = three[three.time_range.notnull()]\n",
    "four = four[four.time_range.notnull()]\n",
    "five = five[five.time_range.notnull()]\n",
    "six = six[six.time_range.notnull()]\n",
    "seven = seven[seven.time_range.notnull()]\n",
    "eight = eight[eight.time_range.notnull()]"
   ]
  },
  {
   "cell_type": "markdown",
   "metadata": {},
   "source": [
    "###### Permit Type 1"
   ]
  },
  {
   "cell_type": "code",
   "execution_count": 9,
   "metadata": {},
   "outputs": [
    {
     "name": "stdout",
     "output_type": "stream",
     "text": [
      "The sample mean is: 478.60227272727275\n",
      "The standard deviation is: 284.901739032821\n",
      "The sample size is: 176\n",
      "The z-score is: 21.07550375781369\n",
      "The p-value is: 1.3347823018479708e-98\n",
      "Reject the null hypothesis. Permit type does have an effect on approval time.\n"
     ]
    }
   ],
   "source": [
    "alpha = 0.05\n",
    "mean = 26\n",
    "sample_mean = np.mean(one.time_range)\n",
    "std = np.std(one.time_range)\n",
    "n = len(one.time_range)\n",
    "print(\"The sample mean is: {}\".format(sample_mean))\n",
    "print(\"The standard deviation is: {}\".format(std))\n",
    "print(\"The sample size is: {}\".format(n))\n",
    "\n",
    "z = (sample_mean - mean)/(std/np.sqrt(n))\n",
    "print(\"The z-score is: {}\".format(z))\n",
    "\n",
    "p_value = stats.norm.cdf(x=-z)*2\n",
    "print(\"The p-value is: {}\".format(p_value))\n",
    "\n",
    "if p_value <= alpha:\n",
    "    print(\"Reject the null hypothesis. Permit type does have an effect on approval time.\")\n",
    "\n",
    "if p_value > alpha:\n",
    "    print(\"Fail to reject the null hypothesis.\")"
   ]
  },
  {
   "cell_type": "markdown",
   "metadata": {},
   "source": [
    "###### Permit Type 2"
   ]
  },
  {
   "cell_type": "code",
   "execution_count": 10,
   "metadata": {},
   "outputs": [
    {
     "name": "stdout",
     "output_type": "stream",
     "text": [
      "The sample mean is: 398.1430948419301\n",
      "The standard deviation is: 317.69101894326656\n",
      "The sample size is: 601\n",
      "The z-score is: 28.717211281523863\n",
      "The p-value is: 2.3263325303473036e-181\n",
      "Reject the null hypothesis. Permit type does have an effect on approval time.\n"
     ]
    }
   ],
   "source": [
    "alpha = 0.05\n",
    "mean = 26\n",
    "sample_mean = np.mean(two.time_range)\n",
    "std = np.std(two.time_range)\n",
    "n = len(two.time_range)\n",
    "print(\"The sample mean is: {}\".format(sample_mean))\n",
    "print(\"The standard deviation is: {}\".format(std))\n",
    "print(\"The sample size is: {}\".format(n))\n",
    "\n",
    "z = (sample_mean - mean)/(std/np.sqrt(n))\n",
    "print(\"The z-score is: {}\".format(z))\n",
    "\n",
    "p_value = stats.norm.cdf(x=-z)*2\n",
    "print(\"The p-value is: {}\".format(p_value))\n",
    "\n",
    "if p_value <= alpha:\n",
    "    print(\"Reject the null hypothesis. Permit type does have an effect on approval time.\")\n",
    "\n",
    "if p_value > alpha:\n",
    "    print(\"Fail to reject the null hypothesis.\")"
   ]
  },
  {
   "cell_type": "markdown",
   "metadata": {},
   "source": [
    "###### Permit Type 3"
   ]
  },
  {
   "cell_type": "code",
   "execution_count": 11,
   "metadata": {},
   "outputs": [
    {
     "name": "stdout",
     "output_type": "stream",
     "text": [
      "The sample mean is: 247.25225129780696\n",
      "The standard deviation is: 207.08351043341662\n",
      "The sample size is: 9439\n",
      "The z-score is: 103.80186895349637\n",
      "The p-value is: 0.0\n",
      "Reject the null hypothesis. Permit type does have an effect on approval time.\n"
     ]
    }
   ],
   "source": [
    "alpha = 0.05\n",
    "mean = 26\n",
    "sample_mean = np.mean(three.time_range)\n",
    "std = np.std(three.time_range)\n",
    "n = len(three.time_range)\n",
    "print(\"The sample mean is: {}\".format(sample_mean))\n",
    "print(\"The standard deviation is: {}\".format(std))\n",
    "print(\"The sample size is: {}\".format(n))\n",
    "\n",
    "z = (sample_mean - mean)/(std/np.sqrt(n))\n",
    "print(\"The z-score is: {}\".format(z))\n",
    "\n",
    "p_value = stats.norm.cdf(x=-z)*2\n",
    "print(\"The p-value is: {}\".format(p_value))\n",
    "\n",
    "if p_value <= alpha:\n",
    "    print(\"Reject the null hypothesis. Permit type does have an effect on approval time.\")\n",
    "\n",
    "if p_value > alpha:\n",
    "    print(\"Fail to reject the null hypothesis.\")"
   ]
  },
  {
   "cell_type": "markdown",
   "metadata": {},
   "source": [
    "###### Permit Type 4"
   ]
  },
  {
   "cell_type": "code",
   "execution_count": 12,
   "metadata": {},
   "outputs": [
    {
     "name": "stdout",
     "output_type": "stream",
     "text": [
      "The sample mean is: 52.72451102788182\n",
      "The standard deviation is: 105.34316162190886\n",
      "The sample size is: 2403\n",
      "The z-score is: 12.43598829625382\n",
      "The p-value is: 1.6666659269177442e-35\n",
      "Reject the null hypothesis. Permit type does have an effect on approval time.\n"
     ]
    }
   ],
   "source": [
    "alpha = 0.05\n",
    "mean = 26\n",
    "sample_mean = np.mean(four.time_range)\n",
    "std = np.std(four.time_range)\n",
    "n = len(four.time_range)\n",
    "print(\"The sample mean is: {}\".format(sample_mean))\n",
    "print(\"The standard deviation is: {}\".format(std))\n",
    "print(\"The sample size is: {}\".format(n))\n",
    "\n",
    "z = (sample_mean - mean)/(std/np.sqrt(n))\n",
    "print(\"The z-score is: {}\".format(z))\n",
    "\n",
    "p_value = stats.norm.cdf(x=-z)*2\n",
    "print(\"The p-value is: {}\".format(p_value))\n",
    "\n",
    "if p_value <= alpha:\n",
    "    print(\"Reject the null hypothesis. Permit type does have an effect on approval time.\")\n",
    "\n",
    "if p_value > alpha:\n",
    "    print(\"Fail to reject the null hypothesis.\")"
   ]
  },
  {
   "cell_type": "markdown",
   "metadata": {},
   "source": [
    "###### Permit Type 5"
   ]
  },
  {
   "cell_type": "code",
   "execution_count": 13,
   "metadata": {},
   "outputs": [
    {
     "name": "stdout",
     "output_type": "stream",
     "text": [
      "The sample mean is: 97.3076923076923\n",
      "The standard deviation is: 104.98855953453257\n",
      "The sample size is: 78\n",
      "The z-score is: 5.998486779734139\n",
      "The p-value is: 1.9916473109801197e-09\n",
      "Reject the null hypothesis. Permit type does have an effect on approval time.\n"
     ]
    }
   ],
   "source": [
    "alpha = 0.05\n",
    "mean = 26\n",
    "sample_mean = np.mean(five.time_range)\n",
    "std = np.std(five.time_range)\n",
    "n = len(five.time_range)\n",
    "print(\"The sample mean is: {}\".format(sample_mean))\n",
    "print(\"The standard deviation is: {}\".format(std))\n",
    "print(\"The sample size is: {}\".format(n))\n",
    "\n",
    "z = (sample_mean - mean)/(std/np.sqrt(n))\n",
    "print(\"The z-score is: {}\".format(z))\n",
    "\n",
    "p_value = stats.norm.cdf(x=-z)*2\n",
    "print(\"The p-value is: {}\".format(p_value))\n",
    "\n",
    "if p_value <= alpha:\n",
    "    print(\"Reject the null hypothesis. Permit type does have an effect on approval time.\")\n",
    "\n",
    "if p_value > alpha:\n",
    "    print(\"Fail to reject the null hypothesis.\")"
   ]
  },
  {
   "cell_type": "markdown",
   "metadata": {},
   "source": [
    "###### Permit Type 6"
   ]
  },
  {
   "cell_type": "code",
   "execution_count": 14,
   "metadata": {},
   "outputs": [
    {
     "name": "stdout",
     "output_type": "stream",
     "text": [
      "The sample mean is: 348.17506631299733\n",
      "The standard deviation is: 336.6875482711004\n",
      "The sample size is: 377\n",
      "The z-score is: 18.57956520578397\n",
      "The p-value is: 4.7030003364981436e-77\n",
      "Reject the null hypothesis. Permit type does have an effect on approval time.\n"
     ]
    }
   ],
   "source": [
    "alpha = 0.05\n",
    "mean = 26\n",
    "sample_mean = np.mean(six.time_range)\n",
    "std = np.std(six.time_range)\n",
    "n = len(six.time_range)\n",
    "print(\"The sample mean is: {}\".format(sample_mean))\n",
    "print(\"The standard deviation is: {}\".format(std))\n",
    "print(\"The sample size is: {}\".format(n))\n",
    "\n",
    "z = (sample_mean - mean)/(std/np.sqrt(n))\n",
    "print(\"The z-score is: {}\".format(z))\n",
    "\n",
    "p_value = stats.norm.cdf(x=-z)*2\n",
    "print(\"The p-value is: {}\".format(p_value))\n",
    "\n",
    "if p_value <= alpha:\n",
    "    print(\"Reject the null hypothesis. Permit type does have an effect on approval time.\")\n",
    "\n",
    "if p_value > alpha:\n",
    "    print(\"Fail to reject the null hypothesis.\")"
   ]
  },
  {
   "cell_type": "markdown",
   "metadata": {},
   "source": [
    "###### Permit Type 7"
   ]
  },
  {
   "cell_type": "code",
   "execution_count": 15,
   "metadata": {},
   "outputs": [
    {
     "name": "stdout",
     "output_type": "stream",
     "text": [
      "The sample mean is: 45.348066298342545\n",
      "The standard deviation is: 77.96064568271822\n",
      "The sample size is: 362\n",
      "The z-score is: 4.721896079337366\n",
      "The p-value is: 2.336560689490869e-06\n",
      "Reject the null hypothesis. Permit type does have an effect on approval time.\n"
     ]
    }
   ],
   "source": [
    "alpha = 0.05\n",
    "mean = 26\n",
    "sample_mean = np.mean(seven.time_range)\n",
    "std = np.std(seven.time_range)\n",
    "n = len(seven.time_range)\n",
    "print(\"The sample mean is: {}\".format(sample_mean))\n",
    "print(\"The standard deviation is: {}\".format(std))\n",
    "print(\"The sample size is: {}\".format(n))\n",
    "\n",
    "z = (sample_mean - mean)/(std/np.sqrt(n))\n",
    "print(\"The z-score is: {}\".format(z))\n",
    "\n",
    "p_value = stats.norm.cdf(x=-z)*2\n",
    "print(\"The p-value is: {}\".format(p_value))\n",
    "\n",
    "if p_value <= alpha:\n",
    "    print(\"Reject the null hypothesis. Permit type does have an effect on approval time.\")\n",
    "\n",
    "if p_value > alpha:\n",
    "    print(\"Fail to reject the null hypothesis.\")"
   ]
  },
  {
   "cell_type": "markdown",
   "metadata": {},
   "source": [
    "###### Permit Type 8"
   ]
  },
  {
   "cell_type": "code",
   "execution_count": 16,
   "metadata": {},
   "outputs": [
    {
     "name": "stdout",
     "output_type": "stream",
     "text": [
      "The sample mean is: 10.870757195468087\n",
      "The standard deviation is: 42.73928156074344\n",
      "The sample size is: 170524\n",
      "The z-score is: -146.17824079859943\n",
      "The p-value is: 0.0\n",
      "Reject the null hypothesis. Permit type does have an effect on approval time.\n"
     ]
    }
   ],
   "source": [
    "alpha = 0.05\n",
    "mean = 26\n",
    "sample_mean = np.mean(eight.time_range)\n",
    "std = np.std(eight.time_range)\n",
    "n = len(eight.time_range)\n",
    "print(\"The sample mean is: {}\".format(sample_mean))\n",
    "print(\"The standard deviation is: {}\".format(std))\n",
    "print(\"The sample size is: {}\".format(n))\n",
    "\n",
    "z = (sample_mean - mean)/(std/np.sqrt(n))\n",
    "print(\"The z-score is: {}\".format(z))\n",
    "\n",
    "p_value = stats.norm.cdf(x=z)*2\n",
    "print(\"The p-value is: {}\".format(p_value))\n",
    "\n",
    "if p_value <= alpha:\n",
    "    print(\"Reject the null hypothesis. Permit type does have an effect on approval time.\")\n",
    "\n",
    "if p_value > alpha:\n",
    "    print(\"Fail to reject the null hypothesis.\")"
   ]
  },
  {
   "cell_type": "markdown",
   "metadata": {},
   "source": [
    "**Second Hypothesis Test**"
   ]
  },
  {
   "cell_type": "code",
   "execution_count": 17,
   "metadata": {},
   "outputs": [
    {
     "data": {
      "text/plain": [
       "26.054696673189824"
      ]
     },
     "execution_count": 17,
     "metadata": {},
     "output_type": "execute_result"
    }
   ],
   "source": [
    "df.time_range.mean()"
   ]
  },
  {
   "cell_type": "code",
   "execution_count": 18,
   "metadata": {},
   "outputs": [],
   "source": [
    "west = df[df.region == \"west\"]\n",
    "north = df[df.region == \"north\"]\n",
    "east = df[df.region == \"east\"]\n",
    "south = df[df.region == \"south\"]\n",
    "central = df[df.region == \"central\"]\n",
    "unknown = df[df.region == \"unknown\"]"
   ]
  },
  {
   "cell_type": "code",
   "execution_count": 19,
   "metadata": {},
   "outputs": [],
   "source": [
    "west = west[west.notnull()]\n",
    "north = north[north.notnull()]\n",
    "east = east[east.notnull()]\n",
    "south = south[south.notnull()]\n",
    "central = central[central.notnull()]\n",
    "unknown = unknown[unknown.notnull()]"
   ]
  },
  {
   "cell_type": "markdown",
   "metadata": {},
   "source": [
    "###### West"
   ]
  },
  {
   "cell_type": "code",
   "execution_count": 20,
   "metadata": {},
   "outputs": [
    {
     "name": "stdout",
     "output_type": "stream",
     "text": [
      "The sample mean is: 22.76887700185916\n",
      "The standard deviation is: 88.80738941133406\n",
      "The sample size is: 32892\n",
      "The z-score is: -6.598565432335644\n",
      "The p-value is: 4.151552475052067e-11\n",
      "Reject the null hypothesis. Region does have an effect on approval time.\n"
     ]
    }
   ],
   "source": [
    "#### West\n",
    "alpha = 0.05\n",
    "mean = 26\n",
    "sample_mean = np.mean(west.time_range)\n",
    "std = np.std(west.time_range)\n",
    "n = len(west.time_range)\n",
    "print(\"The sample mean is: {}\".format(sample_mean))\n",
    "print(\"The standard deviation is: {}\".format(std))\n",
    "print(\"The sample size is: {}\".format(n))\n",
    "\n",
    "z = (sample_mean - mean)/(std/np.sqrt(n))\n",
    "print(\"The z-score is: {}\".format(z))\n",
    "\n",
    "p_value = stats.norm.cdf(x=z)*2\n",
    "print(\"The p-value is: {}\".format(p_value))\n",
    "\n",
    "if p_value <= alpha:\n",
    "    print(\"Reject the null hypothesis. Region does have an effect on approval time.\")\n",
    "\n",
    "if p_value > alpha:\n",
    "    print(\"Fail to reject the null hypothesis.\")"
   ]
  },
  {
   "cell_type": "markdown",
   "metadata": {},
   "source": [
    "###### East"
   ]
  },
  {
   "cell_type": "code",
   "execution_count": 21,
   "metadata": {},
   "outputs": [
    {
     "name": "stdout",
     "output_type": "stream",
     "text": [
      "The sample mean is: 27.380936507936507\n",
      "The standard deviation is: 90.83171609787149\n",
      "The sample size is: 68313\n",
      "The z-score is: 3.9736340713100495\n",
      "The p-value is: 7.07842844402755e-05\n",
      "Reject the null hypothesis. Region does have an effect on approval time.\n"
     ]
    }
   ],
   "source": [
    "#### East\n",
    "alpha = 0.05\n",
    "mean = 26\n",
    "sample_mean = np.mean(east.time_range)\n",
    "std = np.std(east.time_range)\n",
    "n = len(east.time_range)\n",
    "print(\"The sample mean is: {}\".format(sample_mean))\n",
    "print(\"The standard deviation is: {}\".format(std))\n",
    "print(\"The sample size is: {}\".format(n))\n",
    "\n",
    "z = (sample_mean - mean)/(std/np.sqrt(n))\n",
    "print(\"The z-score is: {}\".format(z))\n",
    "\n",
    "p_value = stats.norm.cdf(x=-z)*2\n",
    "print(\"The p-value is: {}\".format(p_value))\n",
    "\n",
    "if p_value <= alpha:\n",
    "    print(\"Reject the null hypothesis. Region does have an effect on approval time.\")\n",
    "\n",
    "if p_value > alpha:\n",
    "    print(\"Fail to reject the null hypothesis.\")"
   ]
  },
  {
   "cell_type": "markdown",
   "metadata": {},
   "source": [
    "###### South"
   ]
  },
  {
   "cell_type": "code",
   "execution_count": 22,
   "metadata": {},
   "outputs": [
    {
     "name": "stdout",
     "output_type": "stream",
     "text": [
      "The sample mean is: 29.127747494285213\n",
      "The standard deviation is: 95.96740615457011\n",
      "The sample size is: 24645\n",
      "The z-score is: 5.116492471185624\n",
      "The p-value is: 3.112697038251377e-07\n",
      "Reject the null hypothesis. Region does have an effect on approval time.\n"
     ]
    }
   ],
   "source": [
    "#### South\n",
    "alpha = 0.05\n",
    "mean = 26\n",
    "sample_mean = np.mean(south.time_range)\n",
    "std = np.std(south.time_range)\n",
    "n = len(south.time_range)\n",
    "print(\"The sample mean is: {}\".format(sample_mean))\n",
    "print(\"The standard deviation is: {}\".format(std))\n",
    "print(\"The sample size is: {}\".format(n))\n",
    "\n",
    "z = (sample_mean - mean)/(std/np.sqrt(n))\n",
    "print(\"The z-score is: {}\".format(z))\n",
    "\n",
    "p_value = stats.norm.cdf(x=-z)*2\n",
    "print(\"The p-value is: {}\".format(p_value))\n",
    "\n",
    "if p_value <= alpha:\n",
    "    print(\"Reject the null hypothesis. Region does have an effect on approval time.\")\n",
    "\n",
    "if p_value > alpha:\n",
    "    print(\"Fail to reject the null hypothesis.\")"
   ]
  },
  {
   "cell_type": "markdown",
   "metadata": {},
   "source": [
    "###### North"
   ]
  },
  {
   "cell_type": "code",
   "execution_count": 23,
   "metadata": {},
   "outputs": [
    {
     "name": "stdout",
     "output_type": "stream",
     "text": [
      "The sample mean is: 25.103924502244215\n",
      "The standard deviation is: 90.23561939104182\n",
      "The sample size is: 28391\n",
      "The z-score is: -1.6732350110967684\n",
      "The p-value is: 0.09428104054227561\n",
      "Fail to reject the null hypothesis.\n"
     ]
    }
   ],
   "source": [
    "#### North\n",
    "alpha = 0.05\n",
    "mean = 26\n",
    "sample_mean = np.mean(north.time_range)\n",
    "std = np.std(north.time_range)\n",
    "n = len(north.time_range)\n",
    "print(\"The sample mean is: {}\".format(sample_mean))\n",
    "print(\"The standard deviation is: {}\".format(std))\n",
    "print(\"The sample size is: {}\".format(n))\n",
    "\n",
    "z = (sample_mean - mean)/(std/np.sqrt(n))\n",
    "print(\"The z-score is: {}\".format(z))\n",
    "\n",
    "p_value = stats.norm.cdf(x=z)*2\n",
    "print(\"The p-value is: {}\".format(p_value))\n",
    "\n",
    "if p_value <= alpha:\n",
    "    print(\"Reject the null hypothesis. Region does have an effect on approval time.\")\n",
    "\n",
    "if p_value > alpha:\n",
    "    print(\"Fail to reject the null hypothesis.\")"
   ]
  },
  {
   "cell_type": "markdown",
   "metadata": {},
   "source": [
    "###### Central"
   ]
  },
  {
   "cell_type": "code",
   "execution_count": 24,
   "metadata": {},
   "outputs": [
    {
     "name": "stdout",
     "output_type": "stream",
     "text": [
      "The sample mean is: 25.976926939492845\n",
      "The standard deviation is: 92.0594140851939\n",
      "The sample size is: 42943\n",
      "The z-score is: -0.051937756864091696\n",
      "The p-value is: 0.9585782892340396\n",
      "Fail to reject the null hypothesis.\n"
     ]
    }
   ],
   "source": [
    "#### Central\n",
    "alpha = 0.05\n",
    "mean = 26\n",
    "sample_mean = np.mean(central.time_range)\n",
    "std = np.std(central.time_range)\n",
    "n = len(central.time_range)\n",
    "print(\"The sample mean is: {}\".format(sample_mean))\n",
    "print(\"The standard deviation is: {}\".format(std))\n",
    "print(\"The sample size is: {}\".format(n))\n",
    "\n",
    "z = (sample_mean - mean)/(std/np.sqrt(n))\n",
    "print(\"The z-score is: {}\".format(z))\n",
    "\n",
    "p_value = stats.norm.cdf(x=z)*2\n",
    "print(\"The p-value is: {}\".format(p_value))\n",
    "\n",
    "if p_value <= alpha:\n",
    "    print(\"Reject the null hypothesis. Region does have an effect on approval time.\")\n",
    "\n",
    "if p_value > alpha:\n",
    "    print(\"Fail to reject the null hypothesis.\")"
   ]
  },
  {
   "cell_type": "markdown",
   "metadata": {},
   "source": [
    "###### Third Hypothesis Test "
   ]
  },
  {
   "cell_type": "code",
   "execution_count": 25,
   "metadata": {},
   "outputs": [
    {
     "data": {
      "text/plain": [
       "wood frame (5)    114382\n",
       "unknown            43162\n",
       "constr type 1      27841\n",
       "constr type 3       9360\n",
       "constr type 2       3778\n",
       "constr type 4        377\n",
       "Name: proposed_construction_type_description, dtype: int64"
      ]
     },
     "execution_count": 25,
     "metadata": {},
     "output_type": "execute_result"
    }
   ],
   "source": [
    "df['proposed_construction_type_description'].value_counts()"
   ]
  },
  {
   "cell_type": "code",
   "execution_count": 26,
   "metadata": {},
   "outputs": [],
   "source": [
    "constr_type_1 = df[df['proposed_construction_type_description'] == 'constr type 1']\n",
    "constr_type_2 = df[df['proposed_construction_type_description'] == 'constr type 2']\n",
    "constr_type_3 = df[df['proposed_construction_type_description'] == 'constr type 3']\n",
    "constr_type_4 = df[df['proposed_construction_type_description'] == 'constr type 4']\n",
    "wood_frame = df[df['proposed_construction_type_description'] == 'wood frame (5)']\n",
    "unknown = df[df['proposed_construction_type_description'] == 'unknown']"
   ]
  },
  {
   "cell_type": "code",
   "execution_count": 27,
   "metadata": {},
   "outputs": [],
   "source": [
    "constr_type_1 = constr_type_1[constr_type_1.notnull()]\n",
    "constr_type_2 = constr_type_2[constr_type_2.notnull()]\n",
    "constr_type_3 = constr_type_3[constr_type_3.notnull()]\n",
    "constr_type_4 = constr_type_4[constr_type_4.notnull()]\n",
    "wood_frame = wood_frame[wood_frame.notnull()]\n",
    "unknown = unknown[unknown.notnull()]"
   ]
  },
  {
   "cell_type": "code",
   "execution_count": 28,
   "metadata": {},
   "outputs": [
    {
     "name": "stdout",
     "output_type": "stream",
     "text": [
      "The sample mean is: 22.58874392623484\n",
      "The standard deviation is: 70.70944997317272\n",
      "The sample size is: 27841\n",
      "The z-score is: -8.049692269136994\n",
      "The p-value is: 8.30024686457201e-16\n",
      "Reject the null hypothesis. Proposed construction type does have an effect on approval time.\n"
     ]
    }
   ],
   "source": [
    "#### Construction Type 1\n",
    "alpha = 0.05\n",
    "mean = 26\n",
    "sample_mean = np.mean(constr_type_1.time_range)\n",
    "std = np.std(constr_type_1.time_range)\n",
    "n = len(constr_type_1.time_range)\n",
    "print(\"The sample mean is: {}\".format(sample_mean))\n",
    "print(\"The standard deviation is: {}\".format(std))\n",
    "print(\"The sample size is: {}\".format(n))\n",
    "\n",
    "z = (sample_mean - mean)/(std/np.sqrt(n))\n",
    "print(\"The z-score is: {}\".format(z))\n",
    "\n",
    "p_value = stats.norm.cdf(x=z)*2\n",
    "print(\"The p-value is: {}\".format(p_value))\n",
    "\n",
    "if p_value <= alpha:\n",
    "    print(\"Reject the null hypothesis. Proposed construction type does have an effect on approval time.\")\n",
    "\n",
    "if p_value > alpha:\n",
    "    print(\"Fail to reject the null hypothesis.\")"
   ]
  },
  {
   "cell_type": "code",
   "execution_count": 29,
   "metadata": {},
   "outputs": [
    {
     "name": "stdout",
     "output_type": "stream",
     "text": [
      "The sample mean is: 34.23252412986253\n",
      "The standard deviation is: 86.71571445851102\n",
      "The sample size is: 3778\n",
      "The z-score is: 5.8353402270609385\n",
      "The p-value is: 5.368091501180551e-09\n",
      "Reject the null hypothesis. Proposed construction type does have an effect on approval time.\n"
     ]
    }
   ],
   "source": [
    "#### Construction Type 2\n",
    "alpha = 0.05\n",
    "mean = 26\n",
    "sample_mean = np.mean(constr_type_2.time_range)\n",
    "std = np.std(constr_type_2.time_range)\n",
    "n = len(constr_type_2.time_range)\n",
    "print(\"The sample mean is: {}\".format(sample_mean))\n",
    "print(\"The standard deviation is: {}\".format(std))\n",
    "print(\"The sample size is: {}\".format(n))\n",
    "\n",
    "z = (sample_mean - mean)/(std/np.sqrt(n))\n",
    "print(\"The z-score is: {}\".format(z))\n",
    "\n",
    "p_value = stats.norm.cdf(x=-z)*2\n",
    "print(\"The p-value is: {}\".format(p_value))\n",
    "\n",
    "if p_value <= alpha:\n",
    "    print(\"Reject the null hypothesis. Proposed construction type does have an effect on approval time.\")\n",
    "\n",
    "if p_value > alpha:\n",
    "    print(\"Fail to reject the null hypothesis.\")"
   ]
  },
  {
   "cell_type": "code",
   "execution_count": 30,
   "metadata": {},
   "outputs": [
    {
     "name": "stdout",
     "output_type": "stream",
     "text": [
      "The sample mean is: 36.258513750731424\n",
      "The standard deviation is: 99.99753299655781\n",
      "The sample size is: 9360\n",
      "The z-score is: 9.925058688282876\n",
      "The p-value is: 3.2391212411203996e-23\n",
      "Reject the null hypothesis. Proposed construction type does have an effect on approval time.\n"
     ]
    }
   ],
   "source": [
    "#### Construction Type 3\n",
    "alpha = 0.05\n",
    "mean = 26\n",
    "sample_mean = np.mean(constr_type_3.time_range)\n",
    "std = np.std(constr_type_3.time_range)\n",
    "n = len(constr_type_3.time_range)\n",
    "print(\"The sample mean is: {}\".format(sample_mean))\n",
    "print(\"The standard deviation is: {}\".format(std))\n",
    "print(\"The sample size is: {}\".format(n))\n",
    "\n",
    "z = (sample_mean - mean)/(std/np.sqrt(n))\n",
    "print(\"The z-score is: {}\".format(z))\n",
    "\n",
    "p_value = stats.norm.cdf(x=-z)*2\n",
    "print(\"The p-value is: {}\".format(p_value))\n",
    "\n",
    "if p_value <= alpha:\n",
    "    print(\"Reject the null hypothesis. Proposed construction type does have an effect on approval time.\")\n",
    "\n",
    "if p_value > alpha:\n",
    "    print(\"Fail to reject the null hypothesis.\")"
   ]
  },
  {
   "cell_type": "code",
   "execution_count": 31,
   "metadata": {},
   "outputs": [
    {
     "name": "stdout",
     "output_type": "stream",
     "text": [
      "The sample mean is: 33.88823529411765\n",
      "The standard deviation is: 82.89620996340895\n",
      "The sample size is: 377\n",
      "The z-score is: 1.8476336219303562\n",
      "The p-value is: 0.06465536239705377\n",
      "Fail to reject the null hypothesis.\n"
     ]
    }
   ],
   "source": [
    "#### Construction Type 4\n",
    "alpha = 0.05\n",
    "mean = 26\n",
    "sample_mean = np.mean(constr_type_4.time_range)\n",
    "std = np.std(constr_type_4.time_range)\n",
    "n = len(constr_type_4.time_range)\n",
    "print(\"The sample mean is: {}\".format(sample_mean))\n",
    "print(\"The standard deviation is: {}\".format(std))\n",
    "print(\"The sample size is: {}\".format(n))\n",
    "\n",
    "z = (sample_mean - mean)/(std/np.sqrt(n))\n",
    "print(\"The z-score is: {}\".format(z))\n",
    "\n",
    "p_value = stats.norm.cdf(x=-z)*2\n",
    "print(\"The p-value is: {}\".format(p_value))\n",
    "\n",
    "if p_value <= alpha:\n",
    "    print(\"Reject the null hypothesis. Proposed construction type does have an effect on approval time.\")\n",
    "\n",
    "if p_value > alpha:\n",
    "    print(\"Fail to reject the null hypothesis.\")"
   ]
  },
  {
   "cell_type": "code",
   "execution_count": 32,
   "metadata": {},
   "outputs": [
    {
     "name": "stdout",
     "output_type": "stream",
     "text": [
      "The sample mean is: 32.451668501939004\n",
      "The standard deviation is: 103.32312280053164\n",
      "The sample size is: 114382\n",
      "The z-score is: 21.11802812003508\n",
      "The p-value is: 5.431525646568726e-99\n",
      "Reject the null hypothesis. Proposed construction type does have an effect on approval time.\n"
     ]
    }
   ],
   "source": [
    "#### Wood Frame\n",
    "alpha = 0.05\n",
    "mean = 26\n",
    "sample_mean = np.mean(wood_frame.time_range)\n",
    "std = np.std(wood_frame.time_range)\n",
    "n = len(wood_frame.time_range)\n",
    "print(\"The sample mean is: {}\".format(sample_mean))\n",
    "print(\"The standard deviation is: {}\".format(std))\n",
    "print(\"The sample size is: {}\".format(n))\n",
    "\n",
    "z = (sample_mean - mean)/(std/np.sqrt(n))\n",
    "print(\"The z-score is: {}\".format(z))\n",
    "\n",
    "p_value = stats.norm.cdf(x=-z)*2\n",
    "print(\"The p-value is: {}\".format(p_value))\n",
    "\n",
    "if p_value <= alpha:\n",
    "    print(\"Reject the null hypothesis. Proposed construction type does have an effect on approval time.\")\n",
    "\n",
    "if p_value > alpha:\n",
    "    print(\"Fail to reject the null hypothesis.\")"
   ]
  }
 ],
 "metadata": {
  "kernelspec": {
   "display_name": "Python [conda env:anaconda3]",
   "language": "python",
   "name": "conda-env-anaconda3-py"
  },
  "language_info": {
   "codemirror_mode": {
    "name": "ipython",
    "version": 3
   },
   "file_extension": ".py",
   "mimetype": "text/x-python",
   "name": "python",
   "nbconvert_exporter": "python",
   "pygments_lexer": "ipython3",
   "version": "3.6.6"
  }
 },
 "nbformat": 4,
 "nbformat_minor": 2
}
