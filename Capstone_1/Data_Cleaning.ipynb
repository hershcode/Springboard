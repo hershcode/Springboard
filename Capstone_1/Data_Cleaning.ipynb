{
 "cells": [
  {
   "cell_type": "markdown",
   "metadata": {},
   "source": [
    "# Importing all libraries necessary for data cleaning "
   ]
  },
  {
   "cell_type": "code",
   "execution_count": 1,
   "metadata": {},
   "outputs": [],
   "source": [
    "import pandas as pd \n",
    "import matplotlib.pyplot as plt \n",
    "import numpy as np \n",
    "\n",
    "%matplotlib inline"
   ]
  },
  {
   "cell_type": "markdown",
   "metadata": {},
   "source": [
    "### Loading data file to pandas dataframe and then getting a summary of the data "
   ]
  },
  {
   "cell_type": "code",
   "execution_count": 2,
   "metadata": {
    "scrolled": false
   },
   "outputs": [
    {
     "name": "stdout",
     "output_type": "stream",
     "text": [
      "<class 'pandas.core.frame.DataFrame'>\n",
      "RangeIndex: 198900 entries, 0 to 198899\n",
      "Data columns (total 43 columns):\n",
      "Permit Number                             198900 non-null object\n",
      "Permit Type                               198900 non-null int64\n",
      "Permit Type Definition                    198900 non-null object\n",
      "Permit Creation Date                      198900 non-null object\n",
      "Block                                     198900 non-null object\n",
      "Lot                                       198900 non-null object\n",
      "Street Number                             198900 non-null int64\n",
      "Street Number Suffix                      2216 non-null object\n",
      "Street Name                               198900 non-null object\n",
      "Street Suffix                             196132 non-null object\n",
      "Unit                                      29479 non-null float64\n",
      "Unit Suffix                               1961 non-null object\n",
      "Description                               198610 non-null object\n",
      "Current Status                            198900 non-null object\n",
      "Current Status Date                       198900 non-null object\n",
      "Filed Date                                198900 non-null object\n",
      "Issued Date                               183960 non-null object\n",
      "Completed Date                            97191 non-null object\n",
      "First Construction Document Date          183954 non-null object\n",
      "Structural Notification                   6922 non-null object\n",
      "Number of Existing Stories                156116 non-null float64\n",
      "Number of Proposed Stories                156032 non-null float64\n",
      "Voluntary Soft-Story Retrofit             35 non-null object\n",
      "Fire Only Permit                          18827 non-null object\n",
      "Permit Expiration Date                    147020 non-null object\n",
      "Estimated Cost                            160834 non-null float64\n",
      "Revised Cost                              192834 non-null float64\n",
      "Existing Use                              157786 non-null object\n",
      "Existing Units                            147362 non-null float64\n",
      "Proposed Use                              156461 non-null object\n",
      "Proposed Units                            147989 non-null float64\n",
      "Plansets                                  161591 non-null float64\n",
      "TIDF Compliance                           2 non-null object\n",
      "Existing Construction Type                155534 non-null float64\n",
      "Existing Construction Type Description    155534 non-null object\n",
      "Proposed Construction Type                155738 non-null float64\n",
      "Proposed Construction Type Description    155738 non-null object\n",
      "Site Permit                               5359 non-null object\n",
      "Supervisor District                       197183 non-null float64\n",
      "Neighborhoods - Analysis Boundaries       197175 non-null object\n",
      "Zipcode                                   197184 non-null float64\n",
      "Location                                  197200 non-null object\n",
      "Record ID                                 198900 non-null float64\n",
      "dtypes: float64(13), int64(2), object(28)\n",
      "memory usage: 65.3+ MB\n"
     ]
    },
    {
     "data": {
      "text/plain": [
       "(198900, 43)"
      ]
     },
     "execution_count": 2,
     "metadata": {},
     "output_type": "execute_result"
    }
   ],
   "source": [
    "df = pd.read_csv(filepath_or_buffer='Building_Permits.csv', header=0,\n",
    "                     encoding='latin1', low_memory=False)\n",
    "\n",
    "df.fillna(value=np.nan)\n",
    "df.info()\n",
    "df.shape"
   ]
  },
  {
   "cell_type": "markdown",
   "metadata": {},
   "source": [
    "##### After loading the data into a dataframe and using the info method for dataframes, there are multiple columns with messing entries. There are a total of 43 columns and 198,900 entries. The next step is to convert these columns to the correct data type. \n",
    "\n",
    "### Functions used for cleaning "
   ]
  },
  {
   "cell_type": "code",
   "execution_count": 3,
   "metadata": {},
   "outputs": [],
   "source": [
    "def to_category(columns, dataframe):\n",
    "    \"\"\"Convert a list of columns, from a dataframe, to a category datatype\"\"\"\n",
    "    for column in columns: \n",
    "        dataframe[column] = dataframe[column].astype('category')\n",
    "\n",
    "def to_integer(columns, dataframe):\n",
    "    \"\"\"Convert columns from a dataframe to an int64 datatype\"\"\"\n",
    "    for column in columns: \n",
    "        dataframe[column] = dataframe[column].astype('int64')"
   ]
  },
  {
   "cell_type": "markdown",
   "metadata": {},
   "source": [
    "#### Rename column names"
   ]
  },
  {
   "cell_type": "code",
   "execution_count": 4,
   "metadata": {},
   "outputs": [
    {
     "data": {
      "text/plain": [
       "Index(['permit_number', 'permit_type', 'permit_type_definition',\n",
       "       'permit_creation_date', 'block', 'lot', 'street_number',\n",
       "       'street_number_suffix', 'street_name', 'street_suffix', 'unit',\n",
       "       'unit_suffix', 'description', 'current_status', 'current_status_date',\n",
       "       'filed_date', 'issued_date', 'completed_date',\n",
       "       'first_construction_document_date', 'structural_notification',\n",
       "       'number_of_existing_stories', 'number_of_proposed_stories',\n",
       "       'voluntary_soft_story_retrofit', 'fire_only_permit',\n",
       "       'permit_expiration_date', 'estimated_cost', 'revised_cost',\n",
       "       'existing_use', 'existing_units', 'proposed_use', 'proposed_units',\n",
       "       'plansets', 'tidf_compliance', 'existing_construction_type',\n",
       "       'existing_construction_type_description', 'proposed_construction_type',\n",
       "       'proposed_construction_type_description', 'site_permit',\n",
       "       'supervisor_district', 'neighborhoods', 'zipcode', 'location',\n",
       "       'record_id'],\n",
       "      dtype='object')"
      ]
     },
     "execution_count": 4,
     "metadata": {},
     "output_type": "execute_result"
    }
   ],
   "source": [
    "df.columns = df.columns.str.replace(' ', '_').str.lower()\n",
    "df.rename(columns={'neighborhoods_-_analysis_boundaries': 'neighborhoods',\n",
    "                       'voluntary_soft-story_retrofit': 'voluntary_soft_story_retrofit'},\n",
    "              inplace=True)\n",
    "df.columns"
   ]
  },
  {
   "cell_type": "markdown",
   "metadata": {},
   "source": [
    "#### Columns that should be datetime: Creation Date, Current Status Date, Filed Date, Issued Date, Completed Date, First Construction Document Date, Permit Expiration Date\n",
    "#### Columns that should be categorical: Permit Type, Permit Type Definition, Street Name (Possibly; otherwise no change needed), Current Status, Fire Only Permit, Existing Use, Proposed Use, Existing Construction Type, Existing Construction Type Description, Proposed Construction Type, Proposed Construction Type Description, Supervisor District, Neighborhoods - Analysis Boundaries, Zipcode, TIDF Compliance \n",
    "\n",
    "### Filling in data for mising category columns "
   ]
  },
  {
   "cell_type": "code",
   "execution_count": 5,
   "metadata": {
    "scrolled": false
   },
   "outputs": [],
   "source": [
    "cols_category = {'permit_type':'unknown', 'permit_type_definition':'unknown', 'street_name':'unknown', \n",
    "        'current_status':'unknown', 'fire_only_permit':'unknown', 'existing_use':'unknown', \n",
    "        'proposed_use':'unknown', 'existing_construction_type':'unknown',\n",
    "        'existing_construction_type_description':'unknown', 'proposed_construction_type':'unknown',\n",
    "        'proposed_construction_type_description':'unknown', 'supervisor_district':'unknown', 'neighborhoods':'unknown',\n",
    "        'zipcode':'unknown', 'tidf_compliance':'unknown', 'site_permit':'unknown', 'unit':'unknown',\n",
    "        'description':'unknown'}\n",
    "\n",
    "df.fillna(value=cols_category, inplace=True)"
   ]
  },
  {
   "cell_type": "markdown",
   "metadata": {},
   "source": [
    "###### Adding an address column that combines all relevant address info from dataset"
   ]
  },
  {
   "cell_type": "code",
   "execution_count": 6,
   "metadata": {},
   "outputs": [],
   "source": [
    "cols = ['street_number','street_name']\n",
    "for col in cols: \n",
    "    df[col] = df[col].astype('str')\n",
    "\n",
    "df['address'] = df.street_number + \" \" + df.street_name + \" \" + df.zipcode.astype('str') + \" \" + df.unit.astype('str') + \" \" + df.block"
   ]
  },
  {
   "cell_type": "markdown",
   "metadata": {},
   "source": [
    "###### Fixing location data syntax and adding separate columns for lat and long "
   ]
  },
  {
   "cell_type": "code",
   "execution_count": 7,
   "metadata": {},
   "outputs": [],
   "source": [
    "df['location'] = df['location'].str.replace(\" \",\"\").str.strip('(').str.strip(')')\n",
    "df['latitude'] = df['location'].str.split(',').str[0]\n",
    "df['longitude'] = df['location'].str.split(',').str[1]\n",
    " \n",
    "df[['latitude','longitude']] = df[['latitude','longitude']].apply(pd.to_numeric)"
   ]
  },
  {
   "cell_type": "markdown",
   "metadata": {},
   "source": [
    "###### Fixing category columns "
   ]
  },
  {
   "cell_type": "code",
   "execution_count": 8,
   "metadata": {},
   "outputs": [],
   "source": [
    "category_cols = ['permit_type_definition', 'current_status',\n",
    "                 'fire_only_permit','existing_use', 'proposed_use',\n",
    "                 'existing_construction_type_description',\n",
    "                 'proposed_construction_type_description', 'neighborhoods',\n",
    "                 'tidf_compliance', 'site_permit', 'permit_type',\n",
    "                 'existing_construction_type','proposed_construction_type',\n",
    "                 'supervisor_district','zipcode']\n",
    "       \n",
    "to_category(columns=(category_cols), dataframe=df)"
   ]
  },
  {
   "cell_type": "code",
   "execution_count": 9,
   "metadata": {
    "scrolled": true
   },
   "outputs": [
    {
     "data": {
      "text/plain": [
       "complete       97077\n",
       "issued         83559\n",
       "filed          12043\n",
       "withdrawn       1754\n",
       "cancelled       1536\n",
       "expired         1370\n",
       "approved         733\n",
       "reinstated       563\n",
       "suspend          193\n",
       "revoked           50\n",
       "plancheck         16\n",
       "incomplete         2\n",
       "disapproved        2\n",
       "appeal             2\n",
       "Name: current_status, dtype: int64"
      ]
     },
     "execution_count": 9,
     "metadata": {},
     "output_type": "execute_result"
    }
   ],
   "source": [
    "df['current_status'].value_counts()"
   ]
  },
  {
   "cell_type": "markdown",
   "metadata": {},
   "source": [
    "###### Fix columns with dates "
   ]
  },
  {
   "cell_type": "code",
   "execution_count": 10,
   "metadata": {},
   "outputs": [],
   "source": [
    "cols = ['permit_creation_date', 'current_status_date','filed_date',\n",
    "        'issued_date', 'completed_date', 'first_construction_document_date',\n",
    "        'permit_expiration_date']\n",
    "\n",
    "for col in cols:\n",
    "    df[col] = pd.to_datetime(df[col])"
   ]
  },
  {
   "cell_type": "code",
   "execution_count": 11,
   "metadata": {
    "scrolled": false
   },
   "outputs": [
    {
     "name": "stdout",
     "output_type": "stream",
     "text": [
      "<class 'pandas.core.frame.DataFrame'>\n",
      "RangeIndex: 198900 entries, 0 to 198899\n",
      "Data columns (total 46 columns):\n",
      "permit_number                             198900 non-null object\n",
      "permit_type                               198900 non-null category\n",
      "permit_type_definition                    198900 non-null category\n",
      "permit_creation_date                      198900 non-null datetime64[ns]\n",
      "block                                     198900 non-null object\n",
      "lot                                       198900 non-null object\n",
      "street_number                             198900 non-null object\n",
      "street_number_suffix                      2216 non-null object\n",
      "street_name                               198900 non-null object\n",
      "street_suffix                             196132 non-null object\n",
      "unit                                      198900 non-null object\n",
      "unit_suffix                               1961 non-null object\n",
      "description                               198900 non-null object\n",
      "current_status                            198900 non-null category\n",
      "current_status_date                       198900 non-null datetime64[ns]\n",
      "filed_date                                198900 non-null datetime64[ns]\n",
      "issued_date                               183960 non-null datetime64[ns]\n",
      "completed_date                            97191 non-null datetime64[ns]\n",
      "first_construction_document_date          183954 non-null datetime64[ns]\n",
      "structural_notification                   6922 non-null object\n",
      "number_of_existing_stories                156116 non-null float64\n",
      "number_of_proposed_stories                156032 non-null float64\n",
      "voluntary_soft_story_retrofit             35 non-null object\n",
      "fire_only_permit                          198900 non-null category\n",
      "permit_expiration_date                    147020 non-null datetime64[ns]\n",
      "estimated_cost                            160834 non-null float64\n",
      "revised_cost                              192834 non-null float64\n",
      "existing_use                              198900 non-null category\n",
      "existing_units                            147362 non-null float64\n",
      "proposed_use                              198900 non-null category\n",
      "proposed_units                            147989 non-null float64\n",
      "plansets                                  161591 non-null float64\n",
      "tidf_compliance                           198900 non-null category\n",
      "existing_construction_type                198900 non-null category\n",
      "existing_construction_type_description    198900 non-null category\n",
      "proposed_construction_type                198900 non-null category\n",
      "proposed_construction_type_description    198900 non-null category\n",
      "site_permit                               198900 non-null category\n",
      "supervisor_district                       198900 non-null category\n",
      "neighborhoods                             198900 non-null category\n",
      "zipcode                                   198900 non-null category\n",
      "location                                  197200 non-null object\n",
      "record_id                                 198900 non-null float64\n",
      "address                                   198900 non-null object\n",
      "latitude                                  197200 non-null float64\n",
      "longitude                                 197200 non-null float64\n",
      "dtypes: category(15), datetime64[ns](7), float64(10), object(14)\n",
      "memory usage: 49.9+ MB\n"
     ]
    }
   ],
   "source": [
    "df.info()"
   ]
  },
  {
   "cell_type": "markdown",
   "metadata": {},
   "source": [
    "The datatypes for every column has been fixed. We can now look into the data and drop rows and columns as necessary. \n",
    "\n",
    "## Dropping selected columns from dataset \n",
    "###### See how many null values there are "
   ]
  },
  {
   "cell_type": "code",
   "execution_count": 12,
   "metadata": {
    "scrolled": true
   },
   "outputs": [
    {
     "data": {
      "text/plain": [
       "permit_number                                  0\n",
       "tidf_compliance                                0\n",
       "existing_construction_type                     0\n",
       "fire_only_permit                               0\n",
       "existing_construction_type_description         0\n",
       "proposed_construction_type                     0\n",
       "proposed_construction_type_description         0\n",
       "site_permit                                    0\n",
       "supervisor_district                            0\n",
       "neighborhoods                                  0\n",
       "zipcode                                        0\n",
       "filed_date                                     0\n",
       "current_status_date                            0\n",
       "current_status                                 0\n",
       "description                                    0\n",
       "unit                                           0\n",
       "record_id                                      0\n",
       "street_name                                    0\n",
       "address                                        0\n",
       "street_number                                  0\n",
       "lot                                            0\n",
       "block                                          0\n",
       "permit_creation_date                           0\n",
       "permit_type_definition                         0\n",
       "permit_type                                    0\n",
       "proposed_use                                   0\n",
       "existing_use                                   0\n",
       "location                                    1700\n",
       "longitude                                   1700\n",
       "latitude                                    1700\n",
       "street_suffix                               2768\n",
       "revised_cost                                6066\n",
       "issued_date                                14940\n",
       "first_construction_document_date           14946\n",
       "plansets                                   37309\n",
       "estimated_cost                             38066\n",
       "number_of_existing_stories                 42784\n",
       "number_of_proposed_stories                 42868\n",
       "proposed_units                             50911\n",
       "existing_units                             51538\n",
       "permit_expiration_date                     51880\n",
       "completed_date                            101709\n",
       "structural_notification                   191978\n",
       "street_number_suffix                      196684\n",
       "unit_suffix                               196939\n",
       "voluntary_soft_story_retrofit             198865\n",
       "dtype: int64"
      ]
     },
     "execution_count": 12,
     "metadata": {},
     "output_type": "execute_result"
    }
   ],
   "source": [
    "df.fillna(value=np.nan)\n",
    "df.isnull().sum().sort_values()"
   ]
  },
  {
   "cell_type": "markdown",
   "metadata": {},
   "source": [
    "###### Columns that can be dropped are voluntary_soft_story_retrofit, unit_suffix, street_number_suffix, structural_notification, street_suffix"
   ]
  },
  {
   "cell_type": "code",
   "execution_count": 13,
   "metadata": {},
   "outputs": [],
   "source": [
    "df.drop(columns=['voluntary_soft_story_retrofit','unit_suffix','street_number_suffix',\n",
    "                 'structural_notification','street_suffix',\n",
    "                 'permit_number','record_id', 'unit_suffix',\n",
    "                 'street_number_suffix', 'voluntary_soft_story_retrofit', 'street_suffix'],\n",
    "                 inplace=True)"
   ]
  },
  {
   "cell_type": "code",
   "execution_count": 14,
   "metadata": {},
   "outputs": [
    {
     "data": {
      "text/plain": [
       "count    183960.000000\n",
       "mean         26.054697\n",
       "std          91.061716\n",
       "min           0.000000\n",
       "25%           0.000000\n",
       "50%           0.000000\n",
       "75%           6.000000\n",
       "max        1740.000000\n",
       "Name: time_range, dtype: float64"
      ]
     },
     "execution_count": 14,
     "metadata": {},
     "output_type": "execute_result"
    }
   ],
   "source": [
    "df['time_range'] = (df['issued_date'].sub(df['filed_date'], axis=0))/np.timedelta64(1, 'D')\n",
    "df['time_range'].describe()"
   ]
  },
  {
   "cell_type": "code",
   "execution_count": 15,
   "metadata": {},
   "outputs": [
    {
     "data": {
      "text/plain": [
       "0.50      0.00\n",
       "0.75      6.00\n",
       "0.80     13.00\n",
       "0.90     56.00\n",
       "0.91     68.00\n",
       "0.92     82.00\n",
       "0.93    100.00\n",
       "0.94    126.00\n",
       "0.95    159.00\n",
       "0.96    204.00\n",
       "0.97    251.00\n",
       "0.98    326.00\n",
       "0.99    471.82\n",
       "Name: time_range, dtype: float64"
      ]
     },
     "execution_count": 15,
     "metadata": {},
     "output_type": "execute_result"
    }
   ],
   "source": [
    "df['time_range'].quantile([.5,.75,.80,.90,.91,.92,.93,.94,.95,.96,.97,.98,.99])"
   ]
  },
  {
   "cell_type": "code",
   "execution_count": 16,
   "metadata": {},
   "outputs": [],
   "source": [
    "df['time_frame'] = \"unknown\"\n",
    "df.loc[df['time_range'] == 0, 'time_frame'] = \"instant approval\"\n",
    "df.loc[df['time_range'] >= 1, 'time_frame'] = \"1 - 59 days\"\n",
    "df.loc[df['time_range'] >= 60, 'time_frame'] = \"60 - 119 days\"\n",
    "df.loc[df['time_range'] >= 120, 'time_frame'] = \"120 - 179 days\"\n",
    "df.loc[df['time_range'] >= 180, 'time_frame'] = \"180+ days\"\n",
    "df.loc[df['current_status'] == 'withdrawn', 'time_frame'] = \"denied\"\n",
    "df.loc[df['current_status'] == 'cancelled', 'time_frame'] = \"denied\""
   ]
  },
  {
   "cell_type": "code",
   "execution_count": 17,
   "metadata": {},
   "outputs": [],
   "source": [
    "df['decision'] = \"non-instant approval\"\n",
    "df.loc[df.time_range == 0, 'decision'] = \"instant approval\"\n",
    "df.loc[df.current_status == 'cancelled', 'decision'] = \"denied\"\n",
    "df.loc[df.current_status == 'withdrawn', 'decision'] = \"denied\""
   ]
  },
  {
   "cell_type": "code",
   "execution_count": 18,
   "metadata": {},
   "outputs": [],
   "source": [
    "df['region'] = \"unknown\"\n",
    "# North Region \n",
    "df.loc[df.zipcode == 94129.0, 'region'] = \"north\"\n",
    "df.loc[df.zipcode == 94123.0, 'region'] = \"north\"\n",
    "df.loc[df.zipcode == 94109.0, 'region'] = \"north\"\n",
    "df.loc[df.zipcode == 94133.0, 'region'] = \"north\"\n",
    "df.loc[df.zipcode == 94130.0, 'region'] = \"north\"\n",
    "df.loc[df.zipcode == 94111.0, 'region'] = \"north\"\n",
    "\n",
    "# South Region \n",
    "df.loc[df.zipcode == 94132.0, 'region'] = \"south\"\n",
    "df.loc[df.zipcode == 94112.0, 'region'] = \"south\"\n",
    "df.loc[df.zipcode == 94134.0, 'region'] = \"south\"\n",
    "df.loc[df.zipcode == 94124.0, 'region'] = \"south\"\n",
    "df.loc[df.zipcode == 94127.0, 'region'] = \"south\"\n",
    "\n",
    "# West region\n",
    "df.loc[df.zipcode == 94116.0, 'region'] = \"west\"\n",
    "df.loc[df.zipcode == 94122.0, 'region'] = \"west\"\n",
    "df.loc[df.zipcode == 94121.0, 'region'] = \"west\"\n",
    "df.loc[df.zipcode == 94118.0, 'region'] = \"west\"\n",
    "\n",
    "# Central region\n",
    "df.loc[df.zipcode == 94131.0, 'region'] = \"central\"\n",
    "df.loc[df.zipcode == 94114.0, 'region'] = \"central\"\n",
    "df.loc[df.zipcode == 94117.0, 'region'] = \"central\"\n",
    "df.loc[df.zipcode == 94115.0, 'region'] = \"central\"\n",
    "\n",
    "# East Region\n",
    "df.loc[df.zipcode == 94110.0, 'region'] = \"east\"\n",
    "df.loc[df.zipcode == 94107.0, 'region'] = \"east\"\n",
    "df.loc[df.zipcode == 94103.0, 'region'] = \"east\"\n",
    "df.loc[df.zipcode == 94102.0, 'region'] = \"east\"\n",
    "df.loc[df.zipcode == 94108.0, 'region'] = \"east\"\n",
    "df.loc[df.zipcode == 94105.0, 'region'] = \"east\"\n",
    "df.loc[df.zipcode == 94104.0, 'region'] = \"east\"\n",
    "df.loc[df.zipcode == 94111.0, 'region'] = \"east\"\n",
    "df.loc[df.zipcode == 94158.0, 'region'] = \"east\""
   ]
  },
  {
   "cell_type": "code",
   "execution_count": 19,
   "metadata": {},
   "outputs": [],
   "source": [
    "df['proposed_use_category'] = 'other'\n",
    "df.loc[df['proposed_use'] == \"1 family dwelling\", 'proposed_use_category'] = 'house'\n",
    "df.loc[df['proposed_use'] == \"2 family dwelling\", 'proposed_use_category'] = 'house'\n",
    "df.loc[df['proposed_use'] == \"apartments\", 'proposed_use_category'] = 'apartment'\n",
    "df.loc[df['proposed_use'] == \"residential hotel\", 'proposed_use_category'] = 'apartment'\n",
    "df.loc[df['proposed_use'] == \"unknown\", 'proposed_use_category'] = 'unknown'\n",
    "df.loc[df['proposed_use'] == \"office\", 'proposed_use_category'] = 'office'\n",
    "df.loc[df['proposed_use'] == \"retail sales\", 'proposed_use_category'] = 'retail sales'"
   ]
  },
  {
   "cell_type": "code",
   "execution_count": 20,
   "metadata": {},
   "outputs": [],
   "source": [
    "df['existing_use_category'] = 'other'\n",
    "df.loc[df['existing_use'] == \"1 family dwelling\", 'existing_use_category'] = 'house'\n",
    "df.loc[df['existing_use'] == \"2 family dwelling\", 'existing_use_category'] = 'house'\n",
    "df.loc[df['existing_use'] == \"apartments\", 'existing_use_category'] = 'apartment'\n",
    "df.loc[df['existing_use'] == \"residential hotel\", 'existing_use_category'] = 'apartment'\n",
    "df.loc[df['existing_use'] == \"unknown\", 'existing_use_category'] = 'unknown'\n",
    "df.loc[df['existing_use'] == \"office\", 'existing_use_category'] = 'office'\n",
    "df.loc[df['existing_use'] == \"retail sales\", 'existing_use_category'] = 'retail sales'"
   ]
  },
  {
   "cell_type": "code",
   "execution_count": 21,
   "metadata": {},
   "outputs": [],
   "source": [
    "df.to_csv(path_or_buf='Building_Permits_Cleaned.csv', date_format='%Y/%m/%d')"
   ]
  },
  {
   "cell_type": "markdown",
   "metadata": {},
   "source": [
    "###### Dataset has been cleaned"
   ]
  }
 ],
 "metadata": {
  "kernelspec": {
   "display_name": "Python [conda env:anaconda3]",
   "language": "python",
   "name": "conda-env-anaconda3-py"
  },
  "language_info": {
   "codemirror_mode": {
    "name": "ipython",
    "version": 3
   },
   "file_extension": ".py",
   "mimetype": "text/x-python",
   "name": "python",
   "nbconvert_exporter": "python",
   "pygments_lexer": "ipython3",
   "version": "3.6.6"
  }
 },
 "nbformat": 4,
 "nbformat_minor": 2
}
