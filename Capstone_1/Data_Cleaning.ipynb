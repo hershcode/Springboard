{
 "cells": [
  {
   "cell_type": "markdown",
   "metadata": {},
   "source": [
    "# Importing all libraries necessary for data cleaning "
   ]
  },
  {
   "cell_type": "code",
   "execution_count": 1,
   "metadata": {},
   "outputs": [],
   "source": [
    "import pandas as pd \n",
    "import matplotlib.pyplot as plt \n",
    "import numpy as np \n",
    "\n",
    "%matplotlib inline"
   ]
  },
  {
   "cell_type": "markdown",
   "metadata": {},
   "source": [
    "### Loading data file to pandas dataframe and then getting a summary of the data "
   ]
  },
  {
   "cell_type": "code",
   "execution_count": 2,
   "metadata": {
    "scrolled": true
   },
   "outputs": [
    {
     "name": "stdout",
     "output_type": "stream",
     "text": [
      "<class 'pandas.core.frame.DataFrame'>\n",
      "RangeIndex: 198900 entries, 0 to 198899\n",
      "Data columns (total 43 columns):\n",
      "Permit Number                             198900 non-null object\n",
      "Permit Type                               198900 non-null int64\n",
      "Permit Type Definition                    198900 non-null object\n",
      "Permit Creation Date                      198900 non-null object\n",
      "Block                                     198900 non-null object\n",
      "Lot                                       198900 non-null object\n",
      "Street Number                             198900 non-null int64\n",
      "Street Number Suffix                      2216 non-null object\n",
      "Street Name                               198900 non-null object\n",
      "Street Suffix                             196132 non-null object\n",
      "Unit                                      29479 non-null float64\n",
      "Unit Suffix                               1961 non-null object\n",
      "Description                               198610 non-null object\n",
      "Current Status                            198900 non-null object\n",
      "Current Status Date                       198900 non-null object\n",
      "Filed Date                                198900 non-null object\n",
      "Issued Date                               183960 non-null object\n",
      "Completed Date                            97191 non-null object\n",
      "First Construction Document Date          183954 non-null object\n",
      "Structural Notification                   6922 non-null object\n",
      "Number of Existing Stories                156116 non-null float64\n",
      "Number of Proposed Stories                156032 non-null float64\n",
      "Voluntary Soft-Story Retrofit             35 non-null object\n",
      "Fire Only Permit                          18827 non-null object\n",
      "Permit Expiration Date                    147020 non-null object\n",
      "Estimated Cost                            160834 non-null float64\n",
      "Revised Cost                              192834 non-null float64\n",
      "Existing Use                              157786 non-null object\n",
      "Existing Units                            147362 non-null float64\n",
      "Proposed Use                              156461 non-null object\n",
      "Proposed Units                            147989 non-null float64\n",
      "Plansets                                  161591 non-null float64\n",
      "TIDF Compliance                           2 non-null object\n",
      "Existing Construction Type                155534 non-null float64\n",
      "Existing Construction Type Description    155534 non-null object\n",
      "Proposed Construction Type                155738 non-null float64\n",
      "Proposed Construction Type Description    155738 non-null object\n",
      "Site Permit                               5359 non-null object\n",
      "Supervisor District                       197183 non-null float64\n",
      "Neighborhoods - Analysis Boundaries       197175 non-null object\n",
      "Zipcode                                   197184 non-null float64\n",
      "Location                                  197200 non-null object\n",
      "Record ID                                 198900 non-null float64\n",
      "dtypes: float64(13), int64(2), object(28)\n",
      "memory usage: 65.3+ MB\n"
     ]
    },
    {
     "data": {
      "text/plain": [
       "(198900, 43)"
      ]
     },
     "execution_count": 2,
     "metadata": {},
     "output_type": "execute_result"
    }
   ],
   "source": [
    "df = pd.read_csv(filepath_or_buffer='Building_Permits.csv', header=0,\n",
    "                     encoding='latin1', low_memory=False)\n",
    "\n",
    "df.fillna(value=np.nan)\n",
    "df.info()\n",
    "df.shape"
   ]
  },
  {
   "cell_type": "markdown",
   "metadata": {},
   "source": [
    "##### After loading the data into a dataframe and using the info method for dataframes, there are multiple columns with messing entries. There are a total of 43 columns and 198,900 entries. The next step is to convert these columns to the correct data type. \n",
    "\n",
    "### Functions used for cleaning "
   ]
  },
  {
   "cell_type": "code",
   "execution_count": 3,
   "metadata": {},
   "outputs": [],
   "source": [
    "def to_category(columns, dataframe):\n",
    "    \"\"\"Convert a list of columns, from a dataframe, to a category datatype\"\"\"\n",
    "    for column in columns: \n",
    "        dataframe[column] = dataframe[column].astype('category')\n",
    "\n",
    "def to_integer(columns, dataframe):\n",
    "    \"\"\"Convert columns from a dataframe to an int64 datatype\"\"\"\n",
    "    for column in columns: \n",
    "        dataframe[column] = dataframe[column].astype('int64')"
   ]
  },
  {
   "cell_type": "markdown",
   "metadata": {},
   "source": [
    "#### Rename column names"
   ]
  },
  {
   "cell_type": "code",
   "execution_count": 4,
   "metadata": {},
   "outputs": [
    {
     "data": {
      "text/plain": [
       "Index(['permit_number', 'permit_type', 'permit_type_definition',\n",
       "       'permit_creation_date', 'block', 'lot', 'street_number',\n",
       "       'street_number_suffix', 'street_name', 'street_suffix', 'unit',\n",
       "       'unit_suffix', 'description', 'current_status', 'current_status_date',\n",
       "       'filed_date', 'issued_date', 'completed_date',\n",
       "       'first_construction_document_date', 'structural_notification',\n",
       "       'number_of_existing_stories', 'number_of_proposed_stories',\n",
       "       'voluntary_soft_story_retrofit', 'fire_only_permit',\n",
       "       'permit_expiration_date', 'estimated_cost', 'revised_cost',\n",
       "       'existing_use', 'existing_units', 'proposed_use', 'proposed_units',\n",
       "       'plansets', 'tidf_compliance', 'existing_construction_type',\n",
       "       'existing_construction_type_description', 'proposed_construction_type',\n",
       "       'proposed_construction_type_description', 'site_permit',\n",
       "       'supervisor_district', 'neighborhoods', 'zipcode', 'location',\n",
       "       'record_id'],\n",
       "      dtype='object')"
      ]
     },
     "execution_count": 4,
     "metadata": {},
     "output_type": "execute_result"
    }
   ],
   "source": [
    "df.columns = df.columns.str.replace(' ', '_').str.lower()\n",
    "df.rename(columns={'neighborhoods_-_analysis_boundaries': 'neighborhoods',\n",
    "                       'voluntary_soft-story_retrofit': 'voluntary_soft_story_retrofit'},\n",
    "              inplace=True)\n",
    "df.columns"
   ]
  },
  {
   "cell_type": "markdown",
   "metadata": {},
   "source": [
    "#### Columns that should be datetime: Creation Date, Current Status Date, Filed Date, Issued Date, Completed Date, First Construction Document Date, Permit Expiration Date\n",
    "#### Columns that should be categorical: Permit Type, Permit Type Definition, Street Name (Possibly; otherwise no change needed), Current Status, Fire Only Permit, Existing Use, Proposed Use, Existing Construction Type, Existing Construction Type Description, Proposed Construction Type, Proposed Construction Type Description, Supervisor District, Neighborhoods - Analysis Boundaries, Zipcode, TIDF Compliance \n",
    "\n",
    "### Filling in data for mising category columns "
   ]
  },
  {
   "cell_type": "code",
   "execution_count": 5,
   "metadata": {
    "scrolled": false
   },
   "outputs": [],
   "source": [
    "cols_category = {'permit_type':'unknown', 'permit_type_definition':'unknown', 'street_name':'unknown', \n",
    "        'current_status':'unknown', 'fire_only_permit':'unknown', 'existing_use':'unknown', \n",
    "        'proposed_use':'unknown', 'existing_construction_type':'unknown',\n",
    "        'existing_construction_type_description':'unknown', 'proposed_construction_type':'unknown',\n",
    "        'proposed_construction_type_description':'unknown', 'supervisor_district':'unknown', 'neighborhoods':'unknown',\n",
    "        'zipcode':'unknown', 'tidf_compliance':'unknown', 'site_permit':'unknown', 'unit':'unknown'}\n",
    "\n",
    "df.fillna(value=cols_category, inplace=True)"
   ]
  },
  {
   "cell_type": "markdown",
   "metadata": {},
   "source": [
    "###### Adding an address column that combines all relevant address info from dataset"
   ]
  },
  {
   "cell_type": "code",
   "execution_count": 6,
   "metadata": {},
   "outputs": [],
   "source": [
    "cols = ['street_number','street_name']\n",
    "for col in cols: \n",
    "    df[col] = df[col].astype('str')\n",
    "\n",
    "df['address'] = df.street_number + \" \" + df.street_name + \" \" + df.zipcode.astype('str') + \" \" + df.unit.astype('str') + \" \" + df.block"
   ]
  },
  {
   "cell_type": "markdown",
   "metadata": {},
   "source": [
    "###### Fixing location data syntax and adding separate columns for lat and long "
   ]
  },
  {
   "cell_type": "code",
   "execution_count": 7,
   "metadata": {},
   "outputs": [],
   "source": [
    "df['location'] = df['location'].str.replace(\" \",\"\").str.strip('(').str.strip(')')\n",
    "df['latitude'] = df['location'].str.split(',').str[0]\n",
    "df['longitude'] = df['location'].str.split(',').str[1]\n",
    " \n",
    "df[['latitude','longitude']] = df[['latitude','longitude']].apply(pd.to_numeric)"
   ]
  },
  {
   "cell_type": "markdown",
   "metadata": {},
   "source": [
    "###### Fixing category columns "
   ]
  },
  {
   "cell_type": "code",
   "execution_count": 8,
   "metadata": {},
   "outputs": [],
   "source": [
    "category_cols = ['permit_type_definition', 'current_status',\n",
    "                 'fire_only_permit','existing_use', 'proposed_use',\n",
    "                 'existing_construction_type_description',\n",
    "                 'proposed_construction_type_description', 'neighborhoods',\n",
    "                 'tidf_compliance', 'site_permit', 'permit_type',\n",
    "                 'existing_construction_type','proposed_construction_type',\n",
    "                 'supervisor_district','zipcode']\n",
    "       \n",
    "to_category(columns=(category_cols), dataframe=df)"
   ]
  },
  {
   "cell_type": "markdown",
   "metadata": {},
   "source": [
    "###### Fix columns with dates "
   ]
  },
  {
   "cell_type": "code",
   "execution_count": 9,
   "metadata": {},
   "outputs": [],
   "source": [
    "cols = ['permit_creation_date', 'current_status_date','filed_date',\n",
    "        'issued_date', 'completed_date', 'first_construction_document_date',\n",
    "        'permit_expiration_date']\n",
    "\n",
    "for col in cols:\n",
    "    df[col] = pd.to_datetime(df[col])"
   ]
  },
  {
   "cell_type": "code",
   "execution_count": 10,
   "metadata": {},
   "outputs": [
    {
     "name": "stdout",
     "output_type": "stream",
     "text": [
      "<class 'pandas.core.frame.DataFrame'>\n",
      "RangeIndex: 198900 entries, 0 to 198899\n",
      "Data columns (total 46 columns):\n",
      "permit_number                             198900 non-null object\n",
      "permit_type                               198900 non-null category\n",
      "permit_type_definition                    198900 non-null category\n",
      "permit_creation_date                      198900 non-null datetime64[ns]\n",
      "block                                     198900 non-null object\n",
      "lot                                       198900 non-null object\n",
      "street_number                             198900 non-null object\n",
      "street_number_suffix                      2216 non-null object\n",
      "street_name                               198900 non-null object\n",
      "street_suffix                             196132 non-null object\n",
      "unit                                      198900 non-null object\n",
      "unit_suffix                               1961 non-null object\n",
      "description                               198610 non-null object\n",
      "current_status                            198900 non-null category\n",
      "current_status_date                       198900 non-null datetime64[ns]\n",
      "filed_date                                198900 non-null datetime64[ns]\n",
      "issued_date                               183960 non-null datetime64[ns]\n",
      "completed_date                            97191 non-null datetime64[ns]\n",
      "first_construction_document_date          183954 non-null datetime64[ns]\n",
      "structural_notification                   6922 non-null object\n",
      "number_of_existing_stories                156116 non-null float64\n",
      "number_of_proposed_stories                156032 non-null float64\n",
      "voluntary_soft_story_retrofit             35 non-null object\n",
      "fire_only_permit                          198900 non-null category\n",
      "permit_expiration_date                    147020 non-null datetime64[ns]\n",
      "estimated_cost                            160834 non-null float64\n",
      "revised_cost                              192834 non-null float64\n",
      "existing_use                              198900 non-null category\n",
      "existing_units                            147362 non-null float64\n",
      "proposed_use                              198900 non-null category\n",
      "proposed_units                            147989 non-null float64\n",
      "plansets                                  161591 non-null float64\n",
      "tidf_compliance                           198900 non-null category\n",
      "existing_construction_type                198900 non-null category\n",
      "existing_construction_type_description    198900 non-null category\n",
      "proposed_construction_type                198900 non-null category\n",
      "proposed_construction_type_description    198900 non-null category\n",
      "site_permit                               198900 non-null category\n",
      "supervisor_district                       198900 non-null category\n",
      "neighborhoods                             198900 non-null category\n",
      "zipcode                                   198900 non-null category\n",
      "location                                  197200 non-null object\n",
      "record_id                                 198900 non-null float64\n",
      "address                                   198900 non-null object\n",
      "latitude                                  197200 non-null float64\n",
      "longitude                                 197200 non-null float64\n",
      "dtypes: category(15), datetime64[ns](7), float64(10), object(14)\n",
      "memory usage: 49.9+ MB\n"
     ]
    }
   ],
   "source": [
    "df.info()"
   ]
  },
  {
   "cell_type": "markdown",
   "metadata": {},
   "source": [
    "The datatypes for every column has been fixed. We can now look into the data and drop rows and columns as necessary. \n",
    "\n",
    "## Dropping selected rows and columns from dataset \n",
    "###### See how many null values there are "
   ]
  },
  {
   "cell_type": "code",
   "execution_count": 11,
   "metadata": {},
   "outputs": [
    {
     "data": {
      "text/plain": [
       "permit_number                                  0\n",
       "tidf_compliance                                0\n",
       "existing_construction_type                     0\n",
       "fire_only_permit                               0\n",
       "existing_construction_type_description         0\n",
       "proposed_construction_type                     0\n",
       "proposed_construction_type_description         0\n",
       "site_permit                                    0\n",
       "supervisor_district                            0\n",
       "neighborhoods                                  0\n",
       "zipcode                                        0\n",
       "filed_date                                     0\n",
       "current_status_date                            0\n",
       "current_status                                 0\n",
       "unit                                           0\n",
       "record_id                                      0\n",
       "street_name                                    0\n",
       "address                                        0\n",
       "street_number                                  0\n",
       "lot                                            0\n",
       "block                                          0\n",
       "permit_creation_date                           0\n",
       "permit_type_definition                         0\n",
       "permit_type                                    0\n",
       "proposed_use                                   0\n",
       "existing_use                                   0\n",
       "description                                  290\n",
       "location                                    1700\n",
       "longitude                                   1700\n",
       "latitude                                    1700\n",
       "street_suffix                               2768\n",
       "revised_cost                                6066\n",
       "issued_date                                14940\n",
       "first_construction_document_date           14946\n",
       "plansets                                   37309\n",
       "estimated_cost                             38066\n",
       "number_of_existing_stories                 42784\n",
       "number_of_proposed_stories                 42868\n",
       "proposed_units                             50911\n",
       "existing_units                             51538\n",
       "permit_expiration_date                     51880\n",
       "completed_date                            101709\n",
       "structural_notification                   191978\n",
       "street_number_suffix                      196684\n",
       "unit_suffix                               196939\n",
       "voluntary_soft_story_retrofit             198865\n",
       "dtype: int64"
      ]
     },
     "execution_count": 11,
     "metadata": {},
     "output_type": "execute_result"
    }
   ],
   "source": [
    "df.isnull().sum().sort_values()"
   ]
  },
  {
   "cell_type": "markdown",
   "metadata": {},
   "source": [
    "###### Columns that can be dropped are voluntary_soft_story_retrofit, unit_suffix, street_number_suffix, structural_notification, street_suffix"
   ]
  },
  {
   "cell_type": "code",
   "execution_count": 12,
   "metadata": {},
   "outputs": [],
   "source": [
    "df.drop(columns=['voluntary_soft_story_retrofit','unit_suffix','street_number_suffix',\n",
    "                 'structural_notification','street_suffix', 'completed_date',\n",
    "                 'permit_number','record_id','first_construction_document_date'],\n",
    "                 inplace=True)"
   ]
  },
  {
   "cell_type": "markdown",
   "metadata": {},
   "source": [
    "###### Dropping nan value rows in issued date"
   ]
  },
  {
   "cell_type": "code",
   "execution_count": 13,
   "metadata": {},
   "outputs": [
    {
     "data": {
      "text/plain": [
       "index                                         0\n",
       "existing_construction_type                    0\n",
       "tidf_compliance                               0\n",
       "proposed_construction_type_description        0\n",
       "site_permit                                   0\n",
       "proposed_use                                  0\n",
       "supervisor_district                           0\n",
       "existing_use                                  0\n",
       "neighborhoods                                 0\n",
       "zipcode                                       0\n",
       "fire_only_permit                              0\n",
       "existing_construction_type_description        0\n",
       "issued_date                                   0\n",
       "address                                       0\n",
       "current_status_date                           0\n",
       "current_status                                0\n",
       "unit                                          0\n",
       "street_name                                   0\n",
       "street_number                                 0\n",
       "lot                                           0\n",
       "block                                         0\n",
       "permit_creation_date                          0\n",
       "permit_type_definition                        0\n",
       "permit_type                                   0\n",
       "filed_date                                    0\n",
       "proposed_construction_type                    0\n",
       "revised_cost                                  9\n",
       "description                                  86\n",
       "location                                   1641\n",
       "longitude                                  1641\n",
       "latitude                                   1641\n",
       "plansets                                  36931\n",
       "permit_expiration_date                    36960\n",
       "estimated_cost                            37065\n",
       "number_of_existing_stories                40757\n",
       "number_of_proposed_stories                40822\n",
       "proposed_units                            48197\n",
       "existing_units                            48685\n",
       "dtype: int64"
      ]
     },
     "execution_count": 13,
     "metadata": {},
     "output_type": "execute_result"
    }
   ],
   "source": [
    "df.dropna(subset=['issued_date'], how='any', inplace=True)\n",
    "df = df.reset_index()\n",
    "df.isnull().sum().sort_values()"
   ]
  },
  {
   "cell_type": "markdown",
   "metadata": {},
   "source": [
    "## Analysis for outliers in dataset"
   ]
  },
  {
   "cell_type": "code",
   "execution_count": 14,
   "metadata": {},
   "outputs": [
    {
     "data": {
      "image/png": "[encoded data removed]",
      "text/plain": [
       "<Figure size 432x288 with 1 Axes>"
      ]
     },
     "metadata": {},
     "output_type": "display_data"
    }
   ],
   "source": [
    "%matplotlib inline\n",
    "\n",
    "df['time_range'] = (df['issued_date'].sub(df['filed_date'], axis=0))/np.timedelta64(1, 'D')\n",
    "plt.title('Histogram of Permit Approval')\n",
    "plt.xlabel('# of Days For Permit Approval')\n",
    "plt.ylabel('Total Counts')\n",
    "plt.hist(x=df['time_range'], bins=100)\n",
    "plt.show()"
   ]
  },
  {
   "cell_type": "markdown",
   "metadata": {},
   "source": [
    "The plot shows that over 50% of the permits were approved on the same day. Even though there are a lot of same day approvals, it seems highly implausible that the city of San Francisco would approve a building permit on the same day.  "
   ]
  },
  {
   "cell_type": "code",
   "execution_count": 15,
   "metadata": {},
   "outputs": [
    {
     "data": {
      "text/plain": [
       "location                                index   filed_date  issued_date  time_range\n",
       "37.70816952820484,-122.4495824817392    6766    2013-03-13  2013-03-13   0.0           1\n",
       "                                        20954   2013-08-08  2013-08-08   0.0           1\n",
       "37.70817427088525,-122.46354383455132   24780   2013-09-13  2013-09-19   6.0           1\n",
       "                                        60090   2014-09-05  2014-09-05   0.0           1\n",
       "37.7082011113186,-122.46030421092122    158954  2017-06-08  2017-06-08   0.0           1\n",
       "37.70820204855604,-122.45808060383742   139732  2016-10-14  2016-10-14   0.0           1\n",
       "37.708204600085985,-122.4630562449027   73498   2015-01-22  2015-01-22   0.0           1\n",
       "37.708219005746415,-122.46360939461846  105273  2015-11-09  2015-11-09   0.0           1\n",
       "                                        106465  2015-11-18  2015-11-18   0.0           1\n",
       "37.708219784150785,-122.43911130693756  165542  2017-11-20  2017-11-20   0.0           1\n",
       "37.708226716717746,-122.43716527609189  62943   2014-10-02  2014-10-02   0.0           1\n",
       "37.708227892547924,-122.44941181531472  183375  2017-09-20  2017-09-20   0.0           1\n",
       "37.708255336721685,-122.44291501224802  73628   2015-01-23  2015-01-23   0.0           1\n",
       "                                        95269   2015-08-12  2015-08-12   0.0           1\n",
       "37.70826637942377,-122.43729680833803   109210  2015-12-16  2015-12-16   0.0           1\n",
       "37.708277723752225,-122.43921944248987  186364  2017-10-19  2017-10-25   6.0           1\n",
       "37.70829338744119,-122.48350972345418   177006  2017-06-07  2017-06-07   0.0           1\n",
       "37.70829975856357,-122.4353069089774    33460   2013-12-11  2013-12-11   0.0           1\n",
       "37.708305085458285,-122.46602167901833  94977   2015-08-11  2015-08-11   0.0           1\n",
       "37.70831156009332,-122.45156418324345   2697    2013-01-28  2013-01-28   0.0           1\n",
       "37.708315793924996,-122.4344513490352   13567   2013-05-23  2013-05-23   0.0           1\n",
       "37.70832450382751,-122.43298455500886   166077  2017-06-01  2017-06-01   0.0           1\n",
       "37.70833090388326,-122.44267669963696   94461   2015-08-05  2015-08-05   0.0           1\n",
       "37.708334593230155,-122.45827569112961  18532   2013-07-15  2013-07-15   0.0           1\n",
       "37.70833807565353,-122.44426176108014   130750  2016-07-19  2016-07-19   0.0           1\n",
       "37.70834282171905,-122.45147234951364   23837   2013-09-05  2013-09-30   25.0          1\n",
       "                                        40908   2014-03-05  2014-03-05   0.0           1\n",
       "37.70834648460545,-122.41844320317958   18299   2013-07-11  2013-07-15   4.0           1\n",
       "37.70835050403024,-122.43592407845884   55583   2014-07-23  2014-07-23   0.0           1\n",
       "37.70835291274319,-122.43752856641169   140207  2016-10-19  2016-10-19   0.0           1\n",
       "                                                                                      ..\n",
       "37.82334995103773,-122.36979125537985   81012   2015-04-02  2015-04-06   4.0           1\n",
       "                                        81203   2015-04-03  2015-04-03   0.0           1\n",
       "                                        82775   2015-04-17  2015-04-17   0.0           1\n",
       "                                        95082   2015-07-13  2015-08-11   29.0          1\n",
       "                                        95325   2015-08-13  2015-11-05   84.0          1\n",
       "                                        102312  2015-10-15  2017-05-19   582.0         1\n",
       "                                        103275  2015-10-22  2015-10-22   0.0           1\n",
       "                                        103333  2015-10-22  2015-10-23   1.0           1\n",
       "                                        106123  2015-11-16  2015-11-16   0.0           1\n",
       "                                        109294  2015-12-17  2015-12-17   0.0           1\n",
       "                                        109296  2015-12-17  2015-12-17   0.0           1\n",
       "                                        110725  2016-01-07  2016-01-07   0.0           1\n",
       "                                        111260  2016-01-13  2016-01-21   8.0           1\n",
       "                                        111666  2016-01-19  2016-01-19   0.0           1\n",
       "                                        112159  2016-01-22  2016-01-22   0.0           1\n",
       "                                        119649  2016-04-01  2016-04-01   0.0           1\n",
       "                                        119653  2016-04-01  2016-04-01   0.0           1\n",
       "                                        128822  2016-06-29  2016-06-29   0.0           1\n",
       "                                        141421  2016-11-02  2016-11-02   0.0           1\n",
       "                                        146763  2016-12-16  2017-02-15   61.0          1\n",
       "                                        146928  2017-01-09  2017-01-13   4.0           1\n",
       "                                        159985  2017-06-22  2017-06-22   0.0           1\n",
       "                                        162086  2017-07-06  2017-07-06   0.0           1\n",
       "                                        177429  2017-06-21  2017-08-11   51.0          1\n",
       "                                        177623  2017-06-29  2017-12-11   165.0         1\n",
       "                                        181405  2017-09-07  2017-10-30   53.0          1\n",
       "                                        185780  2017-10-12  2017-10-27   15.0          1\n",
       "                                        193817  2018-01-08  2018-01-31   23.0          1\n",
       "37.825016569295464,-122.36979125536845  186555  2017-10-20  2017-10-20   0.0           1\n",
       "                                        189177  2017-11-15  2017-11-27   12.0          1\n",
       "Length: 182319, dtype: int64"
      ]
     },
     "execution_count": 15,
     "metadata": {},
     "output_type": "execute_result"
    }
   ],
   "source": [
    "df2 = df.groupby(by=['location','index','filed_date','issued_date','time_range']).size()\n",
    "df2"
   ]
  },
  {
   "cell_type": "code",
   "execution_count": 16,
   "metadata": {},
   "outputs": [
    {
     "data": {
      "text/plain": [
       "(183960, 39)"
      ]
     },
     "execution_count": 16,
     "metadata": {},
     "output_type": "execute_result"
    }
   ],
   "source": [
    "df.shape"
   ]
  },
  {
   "cell_type": "code",
   "execution_count": 17,
   "metadata": {},
   "outputs": [],
   "source": [
    "df.to_csv(path_or_buf='Building_Permits_Cleaned.csv', date_format='%Y/%m/%d')"
   ]
  },
  {
   "cell_type": "markdown",
   "metadata": {},
   "source": [
    "###### Dataset has been cleaned"
   ]
  }
 ],
 "metadata": {
  "kernelspec": {
   "display_name": "Python [conda env:anaconda3]",
   "language": "python",
   "name": "conda-env-anaconda3-py"
  },
  "language_info": {
   "codemirror_mode": {
    "name": "ipython",
    "version": 3
   },
   "file_extension": ".py",
   "mimetype": "text/x-python",
   "name": "python",
   "nbconvert_exporter": "python",
   "pygments_lexer": "ipython3",
   "version": "3.6.6"
  }
 },
 "nbformat": 4,
 "nbformat_minor": 2
}
