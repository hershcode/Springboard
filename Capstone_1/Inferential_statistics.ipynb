{
 "cells": [
  {
   "cell_type": "markdown",
   "metadata": {},
   "source": [
    "<center> <h1> Statistical Analysis for San Francisco Building Permits </h1> </center>  \n",
    "\n",
    "The goal of this report is to perform statistical analysis on the dataset and find correlations between independent variables and with dependent variables. "
   ]
  },
  {
   "cell_type": "code",
   "execution_count": 47,
   "metadata": {},
   "outputs": [],
   "source": [
    "import datetime as dt \n",
    "import numpy as np\n",
    "import pandas as pd\n",
    "import seaborn as sb \n",
    "import matplotlib.pyplot as plt \n",
    "import scipy.stats as stats\n",
    "import matplotlib.style as style"
   ]
  },
  {
   "cell_type": "code",
   "execution_count": 48,
   "metadata": {},
   "outputs": [],
   "source": [
    "df = pd.read_csv(filepath_or_buffer='Building_Permits_Cleaned.csv',\n",
    "                 header=0, low_memory=False, index_col='Unnamed: 0')"
   ]
  },
  {
   "cell_type": "code",
   "execution_count": 49,
   "metadata": {},
   "outputs": [],
   "source": [
    "def to_category(columns, dataframe):\n",
    "    \"\"\"Convert a list of columns, from a dataframe, to a category datatype\"\"\"\n",
    "    for column in columns: \n",
    "        dataframe[column] = dataframe[column].astype('category')\n",
    "\n",
    "def to_integer(columns, dataframe):\n",
    "    \"\"\"Convert columns from a dataframe to an int64 datatype\"\"\"\n",
    "    for column in columns: \n",
    "        dataframe[column] = dataframe[column].astype('int64')"
   ]
  },
  {
   "cell_type": "code",
   "execution_count": 50,
   "metadata": {},
   "outputs": [],
   "source": [
    "cols = ['permit_creation_date', 'current_status_date','filed_date',\n",
    "        'issued_date', 'completed_date', 'first_construction_document_date',\n",
    "        'permit_expiration_date']\n",
    "\n",
    "for col in cols:\n",
    "    df[col] = pd.to_datetime(df[col])\n",
    "\n",
    "    \n",
    "columns = ['permit_type_definition', 'current_status', 'fire_only_permit', \n",
    "           'existing_use', 'proposed_use', 'existing_construction_type',\n",
    "           'proposed_construction_type','existing_construction_type_description',\n",
    "           'proposed_construction_type_description', 'tidf_compliance',\n",
    "           'site_permit', 'neighborhoods', 'zipcode',\n",
    "           'time_frame']\n",
    "\n",
    "to_category(columns=columns, dataframe=df)"
   ]
  },
  {
   "cell_type": "code",
   "execution_count": 51,
   "metadata": {},
   "outputs": [
    {
     "data": {
      "text/html": [
       "<div>\n",
       "<style scoped>\n",
       "    .dataframe tbody tr th:only-of-type {\n",
       "        vertical-align: middle;\n",
       "    }\n",
       "\n",
       "    .dataframe tbody tr th {\n",
       "        vertical-align: top;\n",
       "    }\n",
       "\n",
       "    .dataframe thead th {\n",
       "        text-align: right;\n",
       "    }\n",
       "</style>\n",
       "<table border=\"1\" class=\"dataframe\">\n",
       "  <thead>\n",
       "    <tr style=\"text-align: right;\">\n",
       "      <th></th>\n",
       "      <th>permit_type</th>\n",
       "      <th>street_number</th>\n",
       "      <th>number_of_existing_stories</th>\n",
       "      <th>number_of_proposed_stories</th>\n",
       "      <th>estimated_cost</th>\n",
       "      <th>revised_cost</th>\n",
       "      <th>existing_units</th>\n",
       "      <th>proposed_units</th>\n",
       "      <th>plansets</th>\n",
       "      <th>latitude</th>\n",
       "      <th>longitude</th>\n",
       "      <th>time_range</th>\n",
       "    </tr>\n",
       "  </thead>\n",
       "  <tbody>\n",
       "    <tr>\n",
       "      <th>count</th>\n",
       "      <td>198900.000000</td>\n",
       "      <td>198900.000000</td>\n",
       "      <td>156116.000000</td>\n",
       "      <td>156032.000000</td>\n",
       "      <td>1.608340e+05</td>\n",
       "      <td>1.928340e+05</td>\n",
       "      <td>147362.000000</td>\n",
       "      <td>147989.000000</td>\n",
       "      <td>161591.000000</td>\n",
       "      <td>197200.000000</td>\n",
       "      <td>197200.000000</td>\n",
       "      <td>183960.000000</td>\n",
       "    </tr>\n",
       "    <tr>\n",
       "      <th>mean</th>\n",
       "      <td>7.522323</td>\n",
       "      <td>1121.728944</td>\n",
       "      <td>5.705773</td>\n",
       "      <td>5.745043</td>\n",
       "      <td>1.689554e+05</td>\n",
       "      <td>1.328562e+05</td>\n",
       "      <td>15.666164</td>\n",
       "      <td>16.510950</td>\n",
       "      <td>1.274650</td>\n",
       "      <td>37.768751</td>\n",
       "      <td>-122.431812</td>\n",
       "      <td>26.054697</td>\n",
       "    </tr>\n",
       "    <tr>\n",
       "      <th>std</th>\n",
       "      <td>1.457451</td>\n",
       "      <td>1135.768948</td>\n",
       "      <td>8.613455</td>\n",
       "      <td>8.613284</td>\n",
       "      <td>3.630386e+06</td>\n",
       "      <td>3.584903e+06</td>\n",
       "      <td>74.476321</td>\n",
       "      <td>75.220444</td>\n",
       "      <td>22.407345</td>\n",
       "      <td>0.023730</td>\n",
       "      <td>0.028556</td>\n",
       "      <td>91.061716</td>\n",
       "    </tr>\n",
       "    <tr>\n",
       "      <th>min</th>\n",
       "      <td>1.000000</td>\n",
       "      <td>0.000000</td>\n",
       "      <td>0.000000</td>\n",
       "      <td>0.000000</td>\n",
       "      <td>1.000000e+00</td>\n",
       "      <td>0.000000e+00</td>\n",
       "      <td>0.000000</td>\n",
       "      <td>0.000000</td>\n",
       "      <td>0.000000</td>\n",
       "      <td>37.708170</td>\n",
       "      <td>-122.510938</td>\n",
       "      <td>0.000000</td>\n",
       "    </tr>\n",
       "    <tr>\n",
       "      <th>25%</th>\n",
       "      <td>8.000000</td>\n",
       "      <td>235.000000</td>\n",
       "      <td>2.000000</td>\n",
       "      <td>2.000000</td>\n",
       "      <td>3.300000e+03</td>\n",
       "      <td>1.000000e+00</td>\n",
       "      <td>1.000000</td>\n",
       "      <td>1.000000</td>\n",
       "      <td>0.000000</td>\n",
       "      <td>37.752218</td>\n",
       "      <td>-122.447257</td>\n",
       "      <td>0.000000</td>\n",
       "    </tr>\n",
       "    <tr>\n",
       "      <th>50%</th>\n",
       "      <td>8.000000</td>\n",
       "      <td>710.000000</td>\n",
       "      <td>3.000000</td>\n",
       "      <td>3.000000</td>\n",
       "      <td>1.100000e+04</td>\n",
       "      <td>7.000000e+03</td>\n",
       "      <td>1.000000</td>\n",
       "      <td>2.000000</td>\n",
       "      <td>2.000000</td>\n",
       "      <td>37.773440</td>\n",
       "      <td>-122.427673</td>\n",
       "      <td>0.000000</td>\n",
       "    </tr>\n",
       "    <tr>\n",
       "      <th>75%</th>\n",
       "      <td>8.000000</td>\n",
       "      <td>1700.000000</td>\n",
       "      <td>4.000000</td>\n",
       "      <td>4.000000</td>\n",
       "      <td>3.500000e+04</td>\n",
       "      <td>2.870750e+04</td>\n",
       "      <td>4.000000</td>\n",
       "      <td>4.000000</td>\n",
       "      <td>2.000000</td>\n",
       "      <td>37.788825</td>\n",
       "      <td>-122.409675</td>\n",
       "      <td>6.000000</td>\n",
       "    </tr>\n",
       "    <tr>\n",
       "      <th>max</th>\n",
       "      <td>8.000000</td>\n",
       "      <td>8400.000000</td>\n",
       "      <td>78.000000</td>\n",
       "      <td>78.000000</td>\n",
       "      <td>5.379586e+08</td>\n",
       "      <td>7.805000e+08</td>\n",
       "      <td>1907.000000</td>\n",
       "      <td>1911.000000</td>\n",
       "      <td>9000.000000</td>\n",
       "      <td>37.825017</td>\n",
       "      <td>-122.365853</td>\n",
       "      <td>1740.000000</td>\n",
       "    </tr>\n",
       "  </tbody>\n",
       "</table>\n",
       "</div>"
      ],
      "text/plain": [
       "         permit_type  street_number  number_of_existing_stories  \\\n",
       "count  198900.000000  198900.000000               156116.000000   \n",
       "mean        7.522323    1121.728944                    5.705773   \n",
       "std         1.457451    1135.768948                    8.613455   \n",
       "min         1.000000       0.000000                    0.000000   \n",
       "25%         8.000000     235.000000                    2.000000   \n",
       "50%         8.000000     710.000000                    3.000000   \n",
       "75%         8.000000    1700.000000                    4.000000   \n",
       "max         8.000000    8400.000000                   78.000000   \n",
       "\n",
       "       number_of_proposed_stories  estimated_cost  revised_cost  \\\n",
       "count               156032.000000    1.608340e+05  1.928340e+05   \n",
       "mean                     5.745043    1.689554e+05  1.328562e+05   \n",
       "std                      8.613284    3.630386e+06  3.584903e+06   \n",
       "min                      0.000000    1.000000e+00  0.000000e+00   \n",
       "25%                      2.000000    3.300000e+03  1.000000e+00   \n",
       "50%                      3.000000    1.100000e+04  7.000000e+03   \n",
       "75%                      4.000000    3.500000e+04  2.870750e+04   \n",
       "max                     78.000000    5.379586e+08  7.805000e+08   \n",
       "\n",
       "       existing_units  proposed_units       plansets       latitude  \\\n",
       "count   147362.000000   147989.000000  161591.000000  197200.000000   \n",
       "mean        15.666164       16.510950       1.274650      37.768751   \n",
       "std         74.476321       75.220444      22.407345       0.023730   \n",
       "min          0.000000        0.000000       0.000000      37.708170   \n",
       "25%          1.000000        1.000000       0.000000      37.752218   \n",
       "50%          1.000000        2.000000       2.000000      37.773440   \n",
       "75%          4.000000        4.000000       2.000000      37.788825   \n",
       "max       1907.000000     1911.000000    9000.000000      37.825017   \n",
       "\n",
       "           longitude     time_range  \n",
       "count  197200.000000  183960.000000  \n",
       "mean     -122.431812      26.054697  \n",
       "std         0.028556      91.061716  \n",
       "min      -122.510938       0.000000  \n",
       "25%      -122.447257       0.000000  \n",
       "50%      -122.427673       0.000000  \n",
       "75%      -122.409675       6.000000  \n",
       "max      -122.365853    1740.000000  "
      ]
     },
     "execution_count": 51,
     "metadata": {},
     "output_type": "execute_result"
    }
   ],
   "source": [
    "df.describe()"
   ]
  },
  {
   "cell_type": "code",
   "execution_count": 67,
   "metadata": {},
   "outputs": [
    {
     "data": {
      "text/plain": [
       "(0.04253224538645627, 2.6382765917116337e-80)"
      ]
     },
     "execution_count": 67,
     "metadata": {},
     "output_type": "execute_result"
    }
   ],
   "source": [
    "stats.pearsonr(x=df.permit_type_definition.cat.codes, y=df.time_frame.cat.codes)"
   ]
  },
  {
   "cell_type": "code",
   "execution_count": 71,
   "metadata": {},
   "outputs": [
    {
     "data": {
      "text/plain": [
       "(0.11675200865108178, 0.0)"
      ]
     },
     "execution_count": 71,
     "metadata": {},
     "output_type": "execute_result"
    }
   ],
   "source": [
    "stats.pearsonr(x=df.proposed_use.cat.codes, y=df.time_frame.cat.codes)"
   ]
  },
  {
   "cell_type": "code",
   "execution_count": null,
   "metadata": {},
   "outputs": [],
   "source": []
  },
  {
   "cell_type": "code",
   "execution_count": null,
   "metadata": {},
   "outputs": [],
   "source": []
  },
  {
   "cell_type": "code",
   "execution_count": null,
   "metadata": {},
   "outputs": [],
   "source": []
  }
 ],
 "metadata": {
  "kernelspec": {
   "display_name": "Python [conda env:anaconda3]",
   "language": "python",
   "name": "conda-env-anaconda3-py"
  },
  "language_info": {
   "codemirror_mode": {
    "name": "ipython",
    "version": 3
   },
   "file_extension": ".py",
   "mimetype": "text/x-python",
   "name": "python",
   "nbconvert_exporter": "python",
   "pygments_lexer": "ipython3",
   "version": "3.6.6"
  }
 },
 "nbformat": 4,
 "nbformat_minor": 2
}
