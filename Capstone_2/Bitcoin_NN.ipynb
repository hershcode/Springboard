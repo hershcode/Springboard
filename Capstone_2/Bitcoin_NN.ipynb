{
  "nbformat": 4,
  "nbformat_minor": 0,
  "metadata": {
    "colab": {
      "name": "Bitcoin_NN.ipynb",
      "version": "0.3.2",
      "provenance": [],
      "collapsed_sections": [],
      "include_colab_link": true
    },
    "kernelspec": {
      "name": "python3",
      "display_name": "Python 3"
    }
  },
  "cells": [
    {
      "cell_type": "markdown",
      "metadata": {
        "id": "view-in-github",
        "colab_type": "text"
      },
      "source": [
        "<a href=\"https://colab.research.google.com/github/hershcode/Springboard/blob/master/Capstone_2/Bitcoin_NN.ipynb\" target=\"_parent\"><img src=\"https://colab.research.google.com/assets/colab-badge.svg\" alt=\"Open In Colab\"/></a>"
      ]
    },
    {
      "cell_type": "code",
      "metadata": {
        "id": "_zod2tFjPED_",
        "colab_type": "code",
        "colab": {}
      },
      "source": [
        "from google.colab import drive\n",
        "drive.mount('/content/gdrive')"
      ],
      "execution_count": 0,
      "outputs": []
    },
    {
      "cell_type": "code",
      "metadata": {
        "id": "3DRbYxtZPX6D",
        "colab_type": "code",
        "colab": {}
      },
      "source": [
        "import os \n",
        "os.chdir('/content/gdrive/My Drive')"
      ],
      "execution_count": 0,
      "outputs": []
    },
    {
      "cell_type": "code",
      "metadata": {
        "id": "sNK-hp0bFm8W",
        "colab_type": "code",
        "outputId": "a1214b64-b9f6-46ca-f785-7582176534f8",
        "colab": {
          "base_uri": "https://localhost:8080/",
          "height": 34
        }
      },
      "source": [
        "from bitcoin_lib import *\n",
        "\n",
        "import numpy\n",
        "import math\n",
        "from keras.models import Sequential \n",
        "from keras.layers import Dense, LSTM\n",
        "from keras.callbacks import EarlyStopping\n",
        "from sklearn.metrics import mean_absolute_error"
      ],
      "execution_count": 0,
      "outputs": [
        {
          "output_type": "stream",
          "text": [
            "Using TensorFlow backend.\n"
          ],
          "name": "stderr"
        }
      ]
    },
    {
      "cell_type": "code",
      "metadata": {
        "id": "WpgaftHDu70y",
        "colab_type": "code",
        "colab": {}
      },
      "source": [
        "def create_dataset(dataset, look_back=1):\n",
        "    dataX, dataY = [], []\n",
        "    for i in range(len(dataset)-look_back-1):\n",
        "        a = dataset[i:(i+look_back), 0]\n",
        "        dataX.append(a)\n",
        "        dataY.append(dataset[i + look_back, 0])\n",
        "    return numpy.array(dataX), numpy.array(dataY)"
      ],
      "execution_count": 0,
      "outputs": []
    },
    {
      "cell_type": "code",
      "metadata": {
        "id": "Vl2GtBcZumDc",
        "colab_type": "code",
        "colab": {}
      },
      "source": [
        "def data_load(look_back):\n",
        "  \n",
        "  global scaler\n",
        "  numpy.random.seed(7)\n",
        "  training_data = prepared_data()[['open', 'volume_(btc)', 'rsi_15d', 'close']]\n",
        "  close = training_data[['close']].copy()\n",
        "  close.reset_index(drop=True, inplace=True)\n",
        "  close = close.values\n",
        "  close = close.astype('float32')\n",
        "  scaler = MinMaxScaler(feature_range=(0, 1))\n",
        "  close = scaler.fit_transform(close)\n",
        "  train_size = int(len(close) * 0.80)\n",
        "  test_size = len(close) - train_size\n",
        "  train, test = close[0:train_size,:], close[train_size:len(close),:]\n",
        "  xtrain, ytrain = create_dataset(train, look_back)\n",
        "  xtest, ytest = create_dataset(test, look_back)\n",
        "  xtrain = numpy.reshape(xtrain, (xtrain.shape[0], 1, xtrain.shape[1]))\n",
        "  xtest = numpy.reshape(xtest, (xtest.shape[0], 1, xtest.shape[1]))\n",
        "  \n",
        "  return xtrain, ytrain, xtest, ytest, close"
      ],
      "execution_count": 0,
      "outputs": []
    },
    {
      "cell_type": "code",
      "metadata": {
        "id": "dlHYV_ekkDH_",
        "colab_type": "code",
        "colab": {}
      },
      "source": [
        "# create and fit the LSTM network\n",
        "def initialize_model(block, look_back, optimizer, loss):\n",
        "  model = Sequential()\n",
        "  model.add(LSTM(block, input_shape=(1, look_back)))\n",
        "  model.add(Dense(1))\n",
        "  model.compile(loss=loss, optimizer=optimizer)\n",
        "  \n",
        "  return model"
      ],
      "execution_count": 0,
      "outputs": []
    },
    {
      "cell_type": "code",
      "metadata": {
        "id": "zo_3zIG5kDKD",
        "colab_type": "code",
        "colab": {}
      },
      "source": [
        "def fit_model(xtrain, ytrain, epochs, verbose):\n",
        "  early_stopping_monitor = EarlyStopping(monitor='loss')\n",
        "  model.fit(xtrain, ytrain, epochs=epochs, batch_size=1, verbose=verbose, callbacks=[early_stopping_monitor])\n",
        "    \n",
        "  return model"
      ],
      "execution_count": 0,
      "outputs": []
    },
    {
      "cell_type": "code",
      "metadata": {
        "id": "bbQMPPG3vya7",
        "colab_type": "code",
        "colab": {}
      },
      "source": [
        "def predict(model, xtrain, xtest, ytrain, ytest):\n",
        "  # make predictions\n",
        "  trainPredict = model.predict(xtrain)\n",
        "  testPredict = model.predict(xtest)\n",
        "  # invert predictions\n",
        "  trainPredict = scaler.inverse_transform(trainPredict)\n",
        "  trainY = scaler.inverse_transform([ytrain])\n",
        "  testPredict = scaler.inverse_transform(testPredict)\n",
        "  testY = scaler.inverse_transform([ytest])\n",
        "  # calculate root mean squared error\n",
        "  trainScore = mean_absolute_error(trainY[0], trainPredict[:,0])\n",
        "  print('Train Score: %.2f MAE' % (trainScore))\n",
        "  testScore = mean_absolute_error(testY[0], testPredict[:,0])\n",
        "  print('Test Score: %.2f MAE' % (testScore))\n",
        "  \n",
        "  return trainPredict, testPredict"
      ],
      "execution_count": 0,
      "outputs": []
    },
    {
      "cell_type": "code",
      "metadata": {
        "id": "WFq1awsHwPbt",
        "colab_type": "code",
        "colab": {}
      },
      "source": [
        "def plot_results(close, trainPredict, testPredict, look_black):\n",
        "  \n",
        "  plt.figure(figsize=(20,8))\n",
        "  # shift train predictions for plotting\n",
        "  trainPredictPlot = numpy.empty_like(close)\n",
        "  trainPredictPlot[:, :] = numpy.nan\n",
        "  trainPredictPlot[look_back:len(trainPredict)+look_back, :] = trainPredict\n",
        "  # shift test predictions for plotting\n",
        "  testPredictPlot = numpy.empty_like(close)\n",
        "  testPredictPlot[:, :] = numpy.nan\n",
        "  testPredictPlot[len(trainPredict)+(look_back*2)+1:len(close)-1, :] = testPredict\n",
        "  # plot baseline and predictions\n",
        "  plt.plot(scaler.inverse_transform(close))\n",
        "  plt.plot(trainPredictPlot)\n",
        "  plt.plot(testPredictPlot)\n",
        "  plt.legend(['close', 'training_prediction', 'test_prediction'])\n",
        "  plt.show()"
      ],
      "execution_count": 0,
      "outputs": []
    },
    {
      "cell_type": "code",
      "metadata": {
        "id": "Q7l6_4ouxjUn",
        "colab_type": "code",
        "colab": {}
      },
      "source": [
        "look_back=3"
      ],
      "execution_count": 0,
      "outputs": []
    },
    {
      "cell_type": "code",
      "metadata": {
        "id": "B6378sRvvR_4",
        "colab_type": "code",
        "colab": {}
      },
      "source": [
        "xtrain, ytrain, xtest, ytest, close = data_load(look_back=look_back)"
      ],
      "execution_count": 0,
      "outputs": []
    },
    {
      "cell_type": "code",
      "metadata": {
        "id": "cnPYjwYRpnX1",
        "colab_type": "code",
        "outputId": "4455c435-8ee7-4cfb-bb04-52fb4c85a24a",
        "colab": {
          "base_uri": "https://localhost:8080/",
          "height": 238
        }
      },
      "source": [
        "xtrain"
      ],
      "execution_count": 0,
      "outputs": [
        {
          "output_type": "execute_result",
          "data": {
            "text/plain": [
              "array([[[0.00045028, 0.00047082, 0.00057973]],\n",
              "\n",
              "       [[0.00047082, 0.00057973, 0.00103843]],\n",
              "\n",
              "       [[0.00057973, 0.00103843, 0.00097974]],\n",
              "\n",
              "       ...,\n",
              "\n",
              "       [[0.35503393, 0.3383908 , 0.3329198 ]],\n",
              "\n",
              "       [[0.3383908 , 0.3329198 , 0.3452742 ]],\n",
              "\n",
              "       [[0.3329198 , 0.3452742 , 0.35035598]]], dtype=float32)"
            ]
          },
          "metadata": {
            "tags": []
          },
          "execution_count": 13
        }
      ]
    },
    {
      "cell_type": "code",
      "metadata": {
        "id": "i3yA8bxjkDOb",
        "colab_type": "code",
        "colab": {}
      },
      "source": [
        "model = initialize_model(block=3, look_back=look_back, optimizer='SGD', loss='mean_absolute_error')"
      ],
      "execution_count": 0,
      "outputs": []
    },
    {
      "cell_type": "code",
      "metadata": {
        "id": "PE-r0PMDzEZE",
        "colab_type": "code",
        "outputId": "9b2bcca9-8323-4c80-cf0a-c5b8e3ce3b8a",
        "colab": {
          "base_uri": "https://localhost:8080/",
          "height": 204
        }
      },
      "source": [
        "model.summary()"
      ],
      "execution_count": 0,
      "outputs": [
        {
          "output_type": "stream",
          "text": [
            "_________________________________________________________________\n",
            "Layer (type)                 Output Shape              Param #   \n",
            "=================================================================\n",
            "lstm_2 (LSTM)                (None, 3)                 84        \n",
            "_________________________________________________________________\n",
            "dense_2 (Dense)              (None, 1)                 4         \n",
            "=================================================================\n",
            "Total params: 88\n",
            "Trainable params: 88\n",
            "Non-trainable params: 0\n",
            "_________________________________________________________________\n"
          ],
          "name": "stdout"
        }
      ]
    },
    {
      "cell_type": "code",
      "metadata": {
        "id": "FI6QHCuOkDSu",
        "colab_type": "code",
        "outputId": "9faba21d-4691-4dcd-bd6f-802e26347808",
        "colab": {
          "base_uri": "https://localhost:8080/",
          "height": 530
        }
      },
      "source": [
        "model = fit_model(xtrain=xtrain, ytrain=ytrain, epochs=200, verbose=2)"
      ],
      "execution_count": 0,
      "outputs": [
        {
          "output_type": "stream",
          "text": [
            "W0627 07:20:43.428345 139908977579904 deprecation.py:323] From /usr/local/lib/python3.6/dist-packages/tensorflow/python/ops/math_grad.py:1250: add_dispatch_support.<locals>.wrapper (from tensorflow.python.ops.array_ops) is deprecated and will be removed in a future version.\n",
            "Instructions for updating:\n",
            "Use tf.where in 2.0, which has the same broadcast rule as np.where\n",
            "W0627 07:20:43.898652 139908977579904 deprecation_wrapper.py:119] From /usr/local/lib/python3.6/dist-packages/keras/backend/tensorflow_backend.py:986: The name tf.assign_add is deprecated. Please use tf.compat.v1.assign_add instead.\n",
            "\n",
            "W0627 07:20:43.923084 139908977579904 deprecation_wrapper.py:119] From /usr/local/lib/python3.6/dist-packages/keras/backend/tensorflow_backend.py:973: The name tf.assign is deprecated. Please use tf.compat.v1.assign instead.\n",
            "\n"
          ],
          "name": "stderr"
        },
        {
          "output_type": "stream",
          "text": [
            "Epoch 1/200\n",
            " - 2s - loss: 0.0914\n",
            "Epoch 2/200\n",
            " - 2s - loss: 0.0346\n",
            "Epoch 3/200\n",
            " - 2s - loss: 0.0137\n",
            "Epoch 4/200\n",
            " - 2s - loss: 0.0131\n",
            "Epoch 5/200\n",
            " - 2s - loss: 0.0131\n",
            "Epoch 6/200\n",
            " - 2s - loss: 0.0129\n",
            "Epoch 7/200\n",
            " - 2s - loss: 0.0128\n",
            "Epoch 8/200\n",
            " - 2s - loss: 0.0128\n",
            "Epoch 9/200\n",
            " - 2s - loss: 0.0127\n",
            "Epoch 10/200\n",
            " - 2s - loss: 0.0126\n",
            "Epoch 11/200\n",
            " - 2s - loss: 0.0127\n"
          ],
          "name": "stdout"
        }
      ]
    },
    {
      "cell_type": "code",
      "metadata": {
        "id": "Up2h1YnGt0lN",
        "colab_type": "code",
        "outputId": "1c0644f7-d854-4510-81a5-b484df62fb86",
        "colab": {
          "base_uri": "https://localhost:8080/",
          "height": 51
        }
      },
      "source": [
        "trainPredict, testPredict = predict(model=model, xtrain=xtrain, xtest=xtest, ytrain=ytrain, ytest=ytest)"
      ],
      "execution_count": 0,
      "outputs": [
        {
          "output_type": "stream",
          "text": [
            "Train Score: 152.34 MAE\n",
            "Test Score: 197.48 MAE\n"
          ],
          "name": "stdout"
        }
      ]
    },
    {
      "cell_type": "code",
      "metadata": {
        "id": "zdyrmFu2t0nx",
        "colab_type": "code",
        "outputId": "6a6218a4-1681-49dd-c109-f814d52c22e2",
        "colab": {
          "base_uri": "https://localhost:8080/",
          "height": 486
        }
      },
      "source": [
        "plot_results(close=close, trainPredict=trainPredict, testPredict=testPredict, look_black=look_back)"
      ],
      "execution_count": 0,
      "outputs": [
        {
          "output_type": "display_data",
          "data": {
            "image/png": "[encoded data removed]",
            "text/plain": [
              "<Figure size 1440x576 with 1 Axes>"
            ]
          },
          "metadata": {
            "tags": []
          }
        }
      ]
    },
    {
      "cell_type": "code",
      "metadata": {
        "id": "AxHbx3_Bt0qs",
        "colab_type": "code",
        "colab": {}
      },
      "source": [
        "#### What percent of days is the model directionally correct?"
      ],
      "execution_count": 0,
      "outputs": []
    },
    {
      "cell_type": "code",
      "metadata": {
        "id": "ybFuTqV5t0tU",
        "colab_type": "code",
        "colab": {}
      },
      "source": [
        "#### "
      ],
      "execution_count": 0,
      "outputs": []
    },
    {
      "cell_type": "code",
      "metadata": {
        "id": "jSDMa3C2t0v4",
        "colab_type": "code",
        "colab": {}
      },
      "source": [
        ""
      ],
      "execution_count": 0,
      "outputs": []
    },
    {
      "cell_type": "code",
      "metadata": {
        "id": "qLABi-8nt0yp",
        "colab_type": "code",
        "colab": {}
      },
      "source": [
        ""
      ],
      "execution_count": 0,
      "outputs": []
    }
  ]
}